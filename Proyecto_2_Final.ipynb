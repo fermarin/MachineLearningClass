{
 "cells": [
  {
   "cell_type": "markdown",
   "metadata": {
    "colab_type": "text",
    "id": "zQ0AUrWXyrPX"
   },
   "source": [
    "# Project 2\n",
    "\n",
    "\n",
    "Rodrigo Amortegui  Aros\tCódigo: 199827026\n",
    "Jeimmy Rocio Espinel Farias\tCódigo: 201628049\n",
    "Luis Ferney Rincon Martinez\tCódigo: 271728024\n",
    "# Nombre en Kaggle\n",
    "\n",
    "Rodrigo Amortegui\n",
    "\n",
    "\n",
    "\n",
    "# Movie Genre Classification\n",
    "\n",
    "Classify a movie genre based on its plot.\n",
    "\n",
    "\n",
    "https://www.kaggle.com/c/miia4200-20191-p2-moviegenreclassification/overview\n",
    "\n",
    "\n",
    "### Data\n",
    "\n",
    "Input:\n",
    "- movie plot, Year, title\n",
    "\n",
    "Output:\n",
    "Probability of the movie belong to each genre"
   ]
  },
  {
   "cell_type": "markdown",
   "metadata": {
    "colab_type": "text",
    "id": "QlA4Opn9yrPY"
   },
   "source": [
    "## Importamos las librerias"
   ]
  },
  {
   "cell_type": "code",
   "execution_count": 0,
   "metadata": {
    "colab": {
     "base_uri": "https://localhost:8080/",
     "height": 68
    },
    "colab_type": "code",
    "id": "d_NauapcyrPa",
    "outputId": "bd304542-73ea-44ae-96d8-111d80122633"
   },
   "outputs": [
    {
     "name": "stdout",
     "output_type": "stream",
     "text": [
      "[nltk_data] Downloading package wordnet to /root/nltk_data...\n",
      "[nltk_data]   Package wordnet is already up-to-date!\n"
     ]
    },
    {
     "data": {
      "text/plain": [
       "True"
      ]
     },
     "execution_count": 2,
     "metadata": {
      "tags": []
     },
     "output_type": "execute_result"
    }
   ],
   "source": [
    "import pandas as pd #clasificacion multilabel multiclass- la suma de las probabilidades no da 1\n",
    "import os #evalua el AUC agrupado, columna de 1 y 0 y saca promedio\n",
    "import numpy as np\n",
    "from sklearn.feature_extraction.text import CountVectorizer,TfidfVectorizer\n",
    "from sklearn.preprocessing import MultiLabelBinarizer\n",
    "from sklearn.multiclass import OneVsRestClassifier\n",
    "from sklearn.ensemble import RandomForestRegressor, RandomForestClassifier\n",
    "from sklearn.metrics import r2_score, roc_auc_score\n",
    "from sklearn.model_selection import train_test_split\n",
    "from nltk.stem import WordNetLemmatizer\n",
    "import nltk\n",
    "nltk.download('wordnet')"
   ]
  },
  {
   "cell_type": "code",
   "execution_count": 0,
   "metadata": {
    "colab": {},
    "colab_type": "code",
    "id": "HoeFa2NzyrPe"
   },
   "outputs": [],
   "source": [
    "dataTraining = pd.read_csv('https://github.com/albahnsen/PracticalMachineLearningClass/raw/master/datasets/dataTraining.zip', encoding='UTF-8', index_col=0)\n",
    "dataTesting = pd.read_csv('https://github.com/albahnsen/PracticalMachineLearningClass/raw/master/datasets/dataTesting.zip', encoding='UTF-8', index_col=0)"
   ]
  },
  {
   "cell_type": "markdown",
   "metadata": {
    "colab_type": "text",
    "id": "PUacwt1OW_lo"
   },
   "source": [
    "# EXPLORACION DE DATOS"
   ]
  },
  {
   "cell_type": "code",
   "execution_count": 0,
   "metadata": {
    "colab": {
     "base_uri": "https://localhost:8080/",
     "height": 204
    },
    "colab_type": "code",
    "id": "rjpc5z_SyrPi",
    "outputId": "1139c44c-fdfe-424f-862a-057a2c5839d2"
   },
   "outputs": [
    {
     "data": {
      "text/html": [
       "<div>\n",
       "<style scoped>\n",
       "    .dataframe tbody tr th:only-of-type {\n",
       "        vertical-align: middle;\n",
       "    }\n",
       "\n",
       "    .dataframe tbody tr th {\n",
       "        vertical-align: top;\n",
       "    }\n",
       "\n",
       "    .dataframe thead th {\n",
       "        text-align: right;\n",
       "    }\n",
       "</style>\n",
       "<table border=\"1\" class=\"dataframe\">\n",
       "  <thead>\n",
       "    <tr style=\"text-align: right;\">\n",
       "      <th></th>\n",
       "      <th>year</th>\n",
       "      <th>title</th>\n",
       "      <th>plot</th>\n",
       "      <th>genres</th>\n",
       "      <th>rating</th>\n",
       "    </tr>\n",
       "  </thead>\n",
       "  <tbody>\n",
       "    <tr>\n",
       "      <th>3107</th>\n",
       "      <td>2003</td>\n",
       "      <td>Most</td>\n",
       "      <td>most is the story of a single father who takes...</td>\n",
       "      <td>['Short', 'Drama']</td>\n",
       "      <td>8.0</td>\n",
       "    </tr>\n",
       "    <tr>\n",
       "      <th>900</th>\n",
       "      <td>2008</td>\n",
       "      <td>How to Be a Serial Killer</td>\n",
       "      <td>a serial killer decides to teach the secrets o...</td>\n",
       "      <td>['Comedy', 'Crime', 'Horror']</td>\n",
       "      <td>5.6</td>\n",
       "    </tr>\n",
       "    <tr>\n",
       "      <th>6724</th>\n",
       "      <td>1941</td>\n",
       "      <td>A Woman's Face</td>\n",
       "      <td>in sweden ,  a female blackmailer with a disfi...</td>\n",
       "      <td>['Drama', 'Film-Noir', 'Thriller']</td>\n",
       "      <td>7.2</td>\n",
       "    </tr>\n",
       "    <tr>\n",
       "      <th>4704</th>\n",
       "      <td>1954</td>\n",
       "      <td>Executive Suite</td>\n",
       "      <td>in a friday afternoon in new york ,  the presi...</td>\n",
       "      <td>['Drama']</td>\n",
       "      <td>7.4</td>\n",
       "    </tr>\n",
       "    <tr>\n",
       "      <th>2582</th>\n",
       "      <td>1990</td>\n",
       "      <td>Narrow Margin</td>\n",
       "      <td>in los angeles ,  the editor of a publishing h...</td>\n",
       "      <td>['Action', 'Crime', 'Thriller']</td>\n",
       "      <td>6.6</td>\n",
       "    </tr>\n",
       "  </tbody>\n",
       "</table>\n",
       "</div>"
      ],
      "text/plain": [
       "      year                      title  \\\n",
       "3107  2003                       Most   \n",
       "900   2008  How to Be a Serial Killer   \n",
       "6724  1941             A Woman's Face   \n",
       "4704  1954            Executive Suite   \n",
       "2582  1990              Narrow Margin   \n",
       "\n",
       "                                                   plot  \\\n",
       "3107  most is the story of a single father who takes...   \n",
       "900   a serial killer decides to teach the secrets o...   \n",
       "6724  in sweden ,  a female blackmailer with a disfi...   \n",
       "4704  in a friday afternoon in new york ,  the presi...   \n",
       "2582  in los angeles ,  the editor of a publishing h...   \n",
       "\n",
       "                                  genres  rating  \n",
       "3107                  ['Short', 'Drama']     8.0  \n",
       "900        ['Comedy', 'Crime', 'Horror']     5.6  \n",
       "6724  ['Drama', 'Film-Noir', 'Thriller']     7.2  \n",
       "4704                           ['Drama']     7.4  \n",
       "2582     ['Action', 'Crime', 'Thriller']     6.6  "
      ]
     },
     "execution_count": 35,
     "metadata": {
      "tags": []
     },
     "output_type": "execute_result"
    }
   ],
   "source": [
    "dataTraining.head()"
   ]
  },
  {
   "cell_type": "code",
   "execution_count": 0,
   "metadata": {
    "colab": {
     "base_uri": "https://localhost:8080/",
     "height": 34
    },
    "colab_type": "code",
    "id": "qlD8vypiyrPp",
    "outputId": "a814b811-5c62-42d3-943e-2339ba70e3cd"
   },
   "outputs": [
    {
     "data": {
      "text/plain": [
       "(7895, 5)"
      ]
     },
     "execution_count": 36,
     "metadata": {
      "tags": []
     },
     "output_type": "execute_result"
    }
   ],
   "source": [
    "dataTraining.shape"
   ]
  },
  {
   "cell_type": "code",
   "execution_count": 0,
   "metadata": {
    "colab": {},
    "colab_type": "code",
    "id": "rVGo0thlyrP0"
   },
   "outputs": [],
   "source": [
    "dataTraining = dataTraining.reset_index(drop=True)"
   ]
  },
  {
   "cell_type": "code",
   "execution_count": 0,
   "metadata": {
    "colab": {
     "base_uri": "https://localhost:8080/",
     "height": 119
    },
    "colab_type": "code",
    "id": "JXR5XJQ1yrP9",
    "outputId": "16c1d928-87e7-49e8-e0cb-4e8ee42f9c7b"
   },
   "outputs": [
    {
     "data": {
      "text/plain": [
       "year      0\n",
       "title     0\n",
       "plot      0\n",
       "genres    0\n",
       "rating    0\n",
       "dtype: int64"
      ]
     },
     "execution_count": 38,
     "metadata": {
      "tags": []
     },
     "output_type": "execute_result"
    }
   ],
   "source": [
    "dataTraining.isnull().sum()"
   ]
  },
  {
   "cell_type": "code",
   "execution_count": 0,
   "metadata": {
    "colab": {
     "base_uri": "https://localhost:8080/",
     "height": 297
    },
    "colab_type": "code",
    "id": "TjjJw6J8yrQC",
    "outputId": "e05944ed-c8af-4e13-f319-1036519d5486"
   },
   "outputs": [
    {
     "data": {
      "text/html": [
       "<div>\n",
       "<style scoped>\n",
       "    .dataframe tbody tr th:only-of-type {\n",
       "        vertical-align: middle;\n",
       "    }\n",
       "\n",
       "    .dataframe tbody tr th {\n",
       "        vertical-align: top;\n",
       "    }\n",
       "\n",
       "    .dataframe thead th {\n",
       "        text-align: right;\n",
       "    }\n",
       "</style>\n",
       "<table border=\"1\" class=\"dataframe\">\n",
       "  <thead>\n",
       "    <tr style=\"text-align: right;\">\n",
       "      <th></th>\n",
       "      <th>year</th>\n",
       "      <th>rating</th>\n",
       "    </tr>\n",
       "  </thead>\n",
       "  <tbody>\n",
       "    <tr>\n",
       "      <th>count</th>\n",
       "      <td>7895.000000</td>\n",
       "      <td>7895.000000</td>\n",
       "    </tr>\n",
       "    <tr>\n",
       "      <th>mean</th>\n",
       "      <td>1989.726409</td>\n",
       "      <td>6.402812</td>\n",
       "    </tr>\n",
       "    <tr>\n",
       "      <th>std</th>\n",
       "      <td>22.660717</td>\n",
       "      <td>1.078260</td>\n",
       "    </tr>\n",
       "    <tr>\n",
       "      <th>min</th>\n",
       "      <td>1894.000000</td>\n",
       "      <td>1.200000</td>\n",
       "    </tr>\n",
       "    <tr>\n",
       "      <th>25%</th>\n",
       "      <td>1980.000000</td>\n",
       "      <td>5.800000</td>\n",
       "    </tr>\n",
       "    <tr>\n",
       "      <th>50%</th>\n",
       "      <td>1997.000000</td>\n",
       "      <td>6.500000</td>\n",
       "    </tr>\n",
       "    <tr>\n",
       "      <th>75%</th>\n",
       "      <td>2007.000000</td>\n",
       "      <td>7.200000</td>\n",
       "    </tr>\n",
       "    <tr>\n",
       "      <th>max</th>\n",
       "      <td>2015.000000</td>\n",
       "      <td>9.300000</td>\n",
       "    </tr>\n",
       "  </tbody>\n",
       "</table>\n",
       "</div>"
      ],
      "text/plain": [
       "              year       rating\n",
       "count  7895.000000  7895.000000\n",
       "mean   1989.726409     6.402812\n",
       "std      22.660717     1.078260\n",
       "min    1894.000000     1.200000\n",
       "25%    1980.000000     5.800000\n",
       "50%    1997.000000     6.500000\n",
       "75%    2007.000000     7.200000\n",
       "max    2015.000000     9.300000"
      ]
     },
     "execution_count": 39,
     "metadata": {
      "tags": []
     },
     "output_type": "execute_result"
    }
   ],
   "source": [
    "dataTraining.describe()"
   ]
  },
  {
   "cell_type": "code",
   "execution_count": 0,
   "metadata": {
    "colab": {
     "base_uri": "https://localhost:8080/",
     "height": 405
    },
    "colab_type": "code",
    "id": "9BS5KDOvsgFb",
    "outputId": "a655a970-362b-4be3-bc53-63e4a7b2e0b8"
   },
   "outputs": [
    {
     "data": {
      "text/plain": [
       "(array([3.000e+00, 1.000e+00, 1.000e+00, 1.600e+01, 3.800e+01, 5.100e+01,\n",
       "        1.350e+02, 1.980e+02, 2.210e+02, 2.300e+02, 2.460e+02, 2.150e+02,\n",
       "        2.760e+02, 2.760e+02, 4.260e+02, 6.740e+02, 8.440e+02, 1.044e+03,\n",
       "        1.376e+03, 1.624e+03]),\n",
       " array([1894.  , 1900.05, 1906.1 , 1912.15, 1918.2 , 1924.25, 1930.3 ,\n",
       "        1936.35, 1942.4 , 1948.45, 1954.5 , 1960.55, 1966.6 , 1972.65,\n",
       "        1978.7 , 1984.75, 1990.8 , 1996.85, 2002.9 , 2008.95, 2015.  ]),\n",
       " <a list of 20 Patch objects>)"
      ]
     },
     "execution_count": 40,
     "metadata": {
      "tags": []
     },
     "output_type": "execute_result"
    },
    {
     "data": {
      "image/png": "[encoded data removed]",
      "text/plain": [
       "<Figure size 432x288 with 1 Axes>"
      ]
     },
     "metadata": {
      "tags": []
     },
     "output_type": "display_data"
    }
   ],
   "source": [
    "import matplotlib.pyplot as plt\n",
    "plt.hist(dataTraining[\"year\"], bins = 20)"
   ]
  },
  {
   "cell_type": "code",
   "execution_count": 0,
   "metadata": {
    "colab": {
     "base_uri": "https://localhost:8080/",
     "height": 1071
    },
    "colab_type": "code",
    "id": "CEKFK51qyrQO",
    "outputId": "a6b5a384-e2bb-4e2b-fd16-4b55e8942599"
   },
   "outputs": [
    {
     "data": {
      "text/plain": [
       "['Drama']                                                           429\n",
       "['Comedy']                                                          368\n",
       "['Comedy', 'Drama', 'Romance']                                      306\n",
       "['Comedy', 'Romance']                                               291\n",
       "['Comedy', 'Drama']                                                 287\n",
       "['Drama', 'Romance']                                                282\n",
       "['Documentary']                                                     154\n",
       "['Crime', 'Drama', 'Thriller']                                      125\n",
       "['Horror']                                                          115\n",
       "['Drama', 'Thriller']                                               115\n",
       "['Horror', 'Thriller']                                              108\n",
       "['Action', 'Crime', 'Drama', 'Thriller']                            102\n",
       "['Crime', 'Drama']                                                   88\n",
       "['Action', 'Crime', 'Thriller']                                      83\n",
       "['Comedy', 'Crime']                                                  83\n",
       "['Crime', 'Drama', 'Mystery', 'Thriller']                            81\n",
       "['Horror', 'Mystery', 'Thriller']                                    57\n",
       "['Biography', 'Drama']                                               51\n",
       "['Western']                                                          47\n",
       "['Horror', 'Sci-Fi']                                                 44\n",
       "['Drama', 'War']                                                     44\n",
       "['Action', 'Adventure', 'Sci-Fi']                                    43\n",
       "['Comedy', 'Musical', 'Romance']                                     42\n",
       "['Action', 'Thriller']                                               40\n",
       "['Documentary', 'Music']                                             40\n",
       "['Drama', 'Horror', 'Thriller']                                      39\n",
       "['Drama', 'Mystery', 'Thriller']                                     39\n",
       "['Comedy', 'Crime', 'Drama']                                         37\n",
       "['Crime', 'Drama', 'Film-Noir', 'Thriller']                          36\n",
       "['Comedy', 'Fantasy']                                                35\n",
       "                                                                   ... \n",
       "['Adventure', 'Biography']                                            1\n",
       "['Family', 'Mystery', 'Romance', 'Thriller']                          1\n",
       "['Documentary', 'History', 'Romance', 'War']                          1\n",
       "['Thriller', 'Mystery']                                               1\n",
       "['Action', 'Adventure', 'Comedy', 'Family', 'Mystery']                1\n",
       "['Adventure', 'Comedy', 'War', 'Western']                             1\n",
       "['Comedy', 'Drama', 'Horror', 'Romance']                              1\n",
       "['Adventure', 'Drama', 'Horror', 'Mystery', 'Thriller']               1\n",
       "['Action', 'Adventure', 'Comedy', 'Sci-Fi', 'Thriller']               1\n",
       "['Action', 'Sport', 'Thriller']                                       1\n",
       "['Adventure', 'Drama', 'Mystery', 'Thriller']                         1\n",
       "['Adventure', 'Comedy', 'Family', 'Fantasy', 'Romance', 'Sport']      1\n",
       "['Fantasy', 'Action', 'Adventure']                                    1\n",
       "['Drama', 'Mystery', 'Music']                                         1\n",
       "['Action', 'Short', 'Adventure', 'Comedy']                            1\n",
       "['Action', 'Comedy', 'Fantasy', 'Romance']                            1\n",
       "['Fantasy', 'Romance']                                                1\n",
       "['Crime', 'Horror', 'Sci-Fi', 'Mystery', 'Thriller']                  1\n",
       "['Crime', 'Drama', 'Action', 'Thriller']                              1\n",
       "['Biography', 'Drama', 'Horror', 'Sci-Fi', 'Thriller']                1\n",
       "['Comedy', 'Mystery', 'Crime']                                        1\n",
       "['Action', 'Crime', 'Fantasy', 'Romance', 'Thriller']                 1\n",
       "['Action', 'War', 'Drama', 'Thriller']                                1\n",
       "['Animation', 'Family', 'Comedy', 'Musical', 'Short']                 1\n",
       "['Animation', 'Short', 'Family', 'Sci-Fi']                            1\n",
       "['Documentary', 'Action', 'Comedy']                                   1\n",
       "['Comedy', 'Musical', 'Romance', 'Western']                           1\n",
       "['Biography', 'History', 'Romance', 'War', 'Western']                 1\n",
       "['Adventure', 'Drama', 'History', 'Romance', 'War', 'Western']        1\n",
       "['Action', 'Comedy', 'Crime', 'Music']                                1\n",
       "Name: genres, Length: 1336, dtype: int64"
      ]
     },
     "execution_count": 41,
     "metadata": {
      "tags": []
     },
     "output_type": "execute_result"
    }
   ],
   "source": [
    "dataTraining['genres'].value_counts()"
   ]
  },
  {
   "cell_type": "code",
   "execution_count": 0,
   "metadata": {
    "colab": {
     "base_uri": "https://localhost:8080/",
     "height": 1071
    },
    "colab_type": "code",
    "id": "-N4NBRcmyrQV",
    "outputId": "f712e1b1-280f-43fc-8031-46c4572c1134"
   },
   "outputs": [
    {
     "data": {
      "text/plain": [
       "2013    288\n",
       "2012    277\n",
       "2009    268\n",
       "2008    268\n",
       "2011    266\n",
       "2007    263\n",
       "2006    259\n",
       "2014    242\n",
       "2010    234\n",
       "2005    223\n",
       "2004    202\n",
       "1997    184\n",
       "2001    179\n",
       "2002    176\n",
       "2000    169\n",
       "1999    168\n",
       "1998    168\n",
       "1995    167\n",
       "2003    161\n",
       "1996    158\n",
       "1994    137\n",
       "1988    136\n",
       "1993    135\n",
       "1992    124\n",
       "1990    124\n",
       "1991    123\n",
       "1989    117\n",
       "1987    116\n",
       "1985     91\n",
       "1986     90\n",
       "       ... \n",
       "1935     28\n",
       "1960     28\n",
       "1937     26\n",
       "1961     26\n",
       "1932     23\n",
       "1933     23\n",
       "1938     19\n",
       "1931     17\n",
       "1934     16\n",
       "1928     15\n",
       "1921      9\n",
       "1925      8\n",
       "1922      8\n",
       "1930      8\n",
       "1929      7\n",
       "1923      7\n",
       "1927      7\n",
       "1924      6\n",
       "1926      6\n",
       "1920      5\n",
       "1916      5\n",
       "1915      5\n",
       "1917      3\n",
       "1919      3\n",
       "1894      2\n",
       "1918      2\n",
       "1910      1\n",
       "1914      1\n",
       "1903      1\n",
       "1896      1\n",
       "Name: year, Length: 106, dtype: int64"
      ]
     },
     "execution_count": 42,
     "metadata": {
      "tags": []
     },
     "output_type": "execute_result"
    }
   ],
   "source": [
    "dataTraining['year'].value_counts()"
   ]
  },
  {
   "cell_type": "code",
   "execution_count": 0,
   "metadata": {
    "colab": {
     "base_uri": "https://localhost:8080/",
     "height": 1071
    },
    "colab_type": "code",
    "id": "4ZcZ3oBRyrQc",
    "outputId": "b42e752d-d6be-457b-caec-84400a302ed9"
   },
   "outputs": [
    {
     "data": {
      "text/plain": [
       "6.5    333\n",
       "7.2    320\n",
       "6.4    316\n",
       "6.7    312\n",
       "7.0    309\n",
       "6.8    303\n",
       "7.1    286\n",
       "7.3    282\n",
       "6.6    280\n",
       "6.1    278\n",
       "6.2    278\n",
       "6.9    268\n",
       "6.3    267\n",
       "5.9    254\n",
       "7.4    234\n",
       "7.6    226\n",
       "6.0    216\n",
       "5.7    212\n",
       "7.5    211\n",
       "5.6    210\n",
       "5.8    192\n",
       "7.7    176\n",
       "5.5    173\n",
       "7.8    162\n",
       "5.4    143\n",
       "5.3    139\n",
       "8.0    126\n",
       "5.2    119\n",
       "7.9    118\n",
       "5.1    105\n",
       "      ... \n",
       "8.4     19\n",
       "3.7     19\n",
       "3.8     19\n",
       "3.3     17\n",
       "8.5     16\n",
       "3.6     13\n",
       "3.4     12\n",
       "8.6     11\n",
       "2.7     11\n",
       "2.8     10\n",
       "3.1      9\n",
       "3.2      7\n",
       "2.4      7\n",
       "3.0      6\n",
       "1.9      6\n",
       "8.7      6\n",
       "2.9      6\n",
       "2.5      5\n",
       "8.8      5\n",
       "2.2      5\n",
       "2.6      4\n",
       "2.3      4\n",
       "8.9      4\n",
       "2.1      3\n",
       "9.0      2\n",
       "1.6      2\n",
       "9.3      1\n",
       "1.8      1\n",
       "1.2      1\n",
       "1.7      1\n",
       "Name: rating, Length: 76, dtype: int64"
      ]
     },
     "execution_count": 43,
     "metadata": {
      "tags": []
     },
     "output_type": "execute_result"
    }
   ],
   "source": [
    "dataTraining['rating'].value_counts()"
   ]
  },
  {
   "cell_type": "code",
   "execution_count": 0,
   "metadata": {
    "colab": {
     "base_uri": "https://localhost:8080/",
     "height": 204
    },
    "colab_type": "code",
    "id": "PJNCaLFYyrQm",
    "outputId": "78eec6c2-0541-4e6d-d4fa-aaa5bbbb45df"
   },
   "outputs": [
    {
     "data": {
      "text/html": [
       "<div>\n",
       "<style scoped>\n",
       "    .dataframe tbody tr th:only-of-type {\n",
       "        vertical-align: middle;\n",
       "    }\n",
       "\n",
       "    .dataframe tbody tr th {\n",
       "        vertical-align: top;\n",
       "    }\n",
       "\n",
       "    .dataframe thead th {\n",
       "        text-align: right;\n",
       "    }\n",
       "</style>\n",
       "<table border=\"1\" class=\"dataframe\">\n",
       "  <thead>\n",
       "    <tr style=\"text-align: right;\">\n",
       "      <th></th>\n",
       "      <th>year</th>\n",
       "      <th>title</th>\n",
       "      <th>plot</th>\n",
       "    </tr>\n",
       "  </thead>\n",
       "  <tbody>\n",
       "    <tr>\n",
       "      <th>1</th>\n",
       "      <td>1999</td>\n",
       "      <td>Message in a Bottle</td>\n",
       "      <td>who meets by fate ,  shall be sealed by fate ....</td>\n",
       "    </tr>\n",
       "    <tr>\n",
       "      <th>4</th>\n",
       "      <td>1978</td>\n",
       "      <td>Midnight Express</td>\n",
       "      <td>the true story of billy hayes ,  an american c...</td>\n",
       "    </tr>\n",
       "    <tr>\n",
       "      <th>5</th>\n",
       "      <td>1996</td>\n",
       "      <td>Primal Fear</td>\n",
       "      <td>martin vail left the chicago da ' s office to ...</td>\n",
       "    </tr>\n",
       "    <tr>\n",
       "      <th>6</th>\n",
       "      <td>1950</td>\n",
       "      <td>Crisis</td>\n",
       "      <td>husband and wife americans dr .  eugene and mr...</td>\n",
       "    </tr>\n",
       "    <tr>\n",
       "      <th>7</th>\n",
       "      <td>1959</td>\n",
       "      <td>The Tingler</td>\n",
       "      <td>the coroner and scientist dr .  warren chapin ...</td>\n",
       "    </tr>\n",
       "  </tbody>\n",
       "</table>\n",
       "</div>"
      ],
      "text/plain": [
       "   year                title  \\\n",
       "1  1999  Message in a Bottle   \n",
       "4  1978     Midnight Express   \n",
       "5  1996          Primal Fear   \n",
       "6  1950               Crisis   \n",
       "7  1959          The Tingler   \n",
       "\n",
       "                                                plot  \n",
       "1  who meets by fate ,  shall be sealed by fate ....  \n",
       "4  the true story of billy hayes ,  an american c...  \n",
       "5  martin vail left the chicago da ' s office to ...  \n",
       "6  husband and wife americans dr .  eugene and mr...  \n",
       "7  the coroner and scientist dr .  warren chapin ...  "
      ]
     },
     "execution_count": 44,
     "metadata": {
      "tags": []
     },
     "output_type": "execute_result"
    }
   ],
   "source": [
    "dataTesting.head()"
   ]
  },
  {
   "cell_type": "code",
   "execution_count": 0,
   "metadata": {
    "colab": {
     "base_uri": "https://localhost:8080/",
     "height": 85
    },
    "colab_type": "code",
    "id": "Kqz7MMKMyrQv",
    "outputId": "201aa9ed-69a7-42bc-d455-4339d1cc7c34"
   },
   "outputs": [
    {
     "data": {
      "text/plain": [
       "year     0\n",
       "title    0\n",
       "plot     0\n",
       "dtype: int64"
      ]
     },
     "execution_count": 45,
     "metadata": {
      "tags": []
     },
     "output_type": "execute_result"
    }
   ],
   "source": [
    "dataTesting.isnull().sum()"
   ]
  },
  {
   "cell_type": "markdown",
   "metadata": {
    "colab_type": "text",
    "id": "m5S9zLbh2VMz"
   },
   "source": [
    "# Creamos Y"
   ]
  },
  {
   "cell_type": "code",
   "execution_count": 0,
   "metadata": {
    "colab": {},
    "colab_type": "code",
    "id": "HJSdi4je2T69"
   },
   "outputs": [],
   "source": [
    "dataTraining['genres'] = dataTraining['genres'].map(lambda x: eval(x))\n",
    "\n",
    "le = MultiLabelBinarizer()\n",
    "y_genres = le.fit_transform(dataTraining['genres'])\n"
   ]
  },
  {
   "attachments": {
    "image.png": {
     "image/png": "[encoded data removed]"
    }
   },
   "cell_type": "markdown",
   "metadata": {},
   "source": [
    "![image.png](attachment:image.png)"
   ]
  },
  {
   "cell_type": "markdown",
   "metadata": {
    "colab_type": "text",
    "id": "zgZV46lm0Ism"
   },
   "source": [
    "# Primer modelo Rf (max_features=7000)"
   ]
  },
  {
   "cell_type": "code",
   "execution_count": 0,
   "metadata": {
    "colab": {
     "base_uri": "https://localhost:8080/",
     "height": 34
    },
    "colab_type": "code",
    "id": "QmonX-fy0Wh9",
    "outputId": "71502afe-4bf5-46ae-9273-4d7cec27364a"
   },
   "outputs": [
    {
     "data": {
      "text/plain": [
       "0.830667519795647"
      ]
     },
     "execution_count": 47,
     "metadata": {
      "tags": []
     },
     "output_type": "execute_result"
    }
   ],
   "source": [
    "vect = CountVectorizer(max_features=7000)\n",
    "X_dtm = vect.fit_transform(dataTraining['plot'])\n",
    "X_dtm.shape\n",
    "\n",
    "X_train, X_test, y_train_genres, y_test_genres = train_test_split(X_dtm, y_genres, test_size=0.20, random_state=42)\n",
    "\n",
    "clf = OneVsRestClassifier(RandomForestClassifier(n_jobs=-1, n_estimators=100, max_depth=10, random_state=42))\n",
    "\n",
    "clf.fit(X_train, y_train_genres)\n",
    "\n",
    "y_pred_genres = clf.predict_proba(X_test)\n",
    "\n",
    "roc_auc_score(y_test_genres, y_pred_genres, average='macro')"
   ]
  },
  {
   "cell_type": "markdown",
   "metadata": {
    "colab_type": "text",
    "id": "l6Rlj1_q6luA"
   },
   "source": [
    "vaciones del modelo 1"
   ]
  },
  {
   "cell_type": "markdown",
   "metadata": {
    "colab_type": "text",
    "id": "LNp3WLvM6sjY"
   },
   "source": [
    "# Seundo modelo RF ClassifierChain ()"
   ]
  },
  {
   "cell_type": "code",
   "execution_count": 0,
   "metadata": {
    "colab": {
     "base_uri": "https://localhost:8080/",
     "height": 173
    },
    "colab_type": "code",
    "id": "s-UPc80x6xN6",
    "outputId": "58bde609-e2f1-4393-b9a3-d26ffcd7ee6e"
   },
   "outputs": [
    {
     "name": "stdout",
     "output_type": "stream",
     "text": [
      "Collecting scikit-multilearn\n",
      "\u001b[?25l  Downloading https://files.pythonhosted.org/packages/bb/1f/e6ff649c72a1cdf2c7a1d31eb21705110ce1c5d3e7e26b2cc300e1637272/scikit_multilearn-0.2.0-py3-none-any.whl (89kB)\n",
      "\u001b[K    100% |████████████████████████████████| 92kB 3.4MB/s \n",
      "\u001b[?25hInstalling collected packages: scikit-multilearn\n",
      "Successfully installed scikit-multilearn-0.2.0\n"
     ]
    },
    {
     "name": "stderr",
     "output_type": "stream",
     "text": [
      "/usr/local/lib/python3.6/dist-packages/sklearn/ensemble/forest.py:246: FutureWarning: The default value of n_estimators will change from 10 in version 0.20 to 100 in 0.22.\n",
      "  \"10 in version 0.20 to 100 in 0.22.\", FutureWarning)\n"
     ]
    },
    {
     "name": "stdout",
     "output_type": "stream",
     "text": [
      "Accuracy =  0.06523115896136795\n"
     ]
    }
   ],
   "source": [
    "!pip install scikit-multilearn\n",
    "from skmultilearn.problem_transform import ClassifierChain\n",
    "classifier = ClassifierChain(RandomForestClassifier())\n",
    "classifier.fit(X_train, y_train_genres)\n",
    "y_pred_genres_3 = classifier.predict(X_test)\n",
    "from sklearn.metrics import accuracy_score\n",
    "print(\"Accuracy = \",accuracy_score(y_test_genres,y_pred_genres_3))"
   ]
  },
  {
   "cell_type": "code",
   "execution_count": 0,
   "metadata": {
    "colab": {},
    "colab_type": "code",
    "id": "JyfwyOKz7hGQ"
   },
   "outputs": [],
   "source": []
  },
  {
   "cell_type": "markdown",
   "metadata": {
    "colab_type": "text",
    "id": "2pD1QQcy89E_"
   },
   "source": [
    "Modelo con SVM"
   ]
  },
  {
   "cell_type": "code",
   "execution_count": 0,
   "metadata": {
    "colab": {},
    "colab_type": "code",
    "id": "cpiMS1tG8_9c"
   },
   "outputs": [],
   "source": [
    "from sklearn import svm\n",
    "from sklearn.svm import SVC\n",
    "from sklearn.svm import SVR\n",
    "y_r_rbf = svr_rbf.fit(X_train, y_train_genres)\n",
    "R_r=y_r_rbf.predict(X_test)\n",
    "r_rbf=sum(R_r==y_test_genres)/len(y_test_genres)"
   ]
  },
  {
   "cell_type": "markdown",
   "metadata": {
    "colab_type": "text",
    "id": "SdHLmZb6974l"
   },
   "source": [
    "#  RF Unificado Year y plot"
   ]
  },
  {
   "cell_type": "code",
   "execution_count": 0,
   "metadata": {
    "colab": {
     "base_uri": "https://localhost:8080/",
     "height": 34
    },
    "colab_type": "code",
    "id": "9n2PcF4w95pb",
    "outputId": "d563d1d4-bf1f-4396-8f28-c11e13fedccb"
   },
   "outputs": [
    {
     "data": {
      "text/plain": [
       "(7895, 7000)"
      ]
     },
     "execution_count": 51,
     "metadata": {
      "tags": []
     },
     "output_type": "execute_result"
    }
   ],
   "source": [
    "def concat(*args): \n",
    "    strs = [str(arg) for arg in args if not pd.isnull(arg)] \n",
    "    return ','.join(strs) if strs else np.nan \n",
    "np_concat = np.vectorize(concat) \n",
    "dataTraining['X_Tot'] = np_concat(dataTraining['plot'], dataTraining['year']) \n",
    "vect = CountVectorizer(ngram_range=(1, 5),lowercase=False,max_features=7000)\n",
    "X_dtm = vect.fit_transform(dataTraining['X_Tot'])\n",
    "X_dtm.shape"
   ]
  },
  {
   "cell_type": "code",
   "execution_count": 0,
   "metadata": {
    "colab": {},
    "colab_type": "code",
    "id": "2F52tEAY_cvw"
   },
   "outputs": [],
   "source": [
    "X_train, X_test, y_train_genres, y_test_genres = train_test_split(X_dtm, y_genres, test_size=0.20, random_state=42)"
   ]
  },
  {
   "cell_type": "code",
   "execution_count": 0,
   "metadata": {
    "colab": {
     "base_uri": "https://localhost:8080/",
     "height": 136
    },
    "colab_type": "code",
    "id": "YkmSn5bk_D1B",
    "outputId": "337abfdc-6e49-471e-e584-d684c51836b4"
   },
   "outputs": [
    {
     "data": {
      "text/plain": [
       "OneVsRestClassifier(estimator=RandomForestClassifier(bootstrap=True, class_weight=None, criterion='gini',\n",
       "            max_depth=10, max_features='auto', max_leaf_nodes=None,\n",
       "            min_impurity_decrease=0.0, min_impurity_split=None,\n",
       "            min_samples_leaf=1, min_samples_split=2,\n",
       "            min_weight_fraction_leaf=0.0, n_estimators=100, n_jobs=-1,\n",
       "            oob_score=False, random_state=42, verbose=0, warm_start=False),\n",
       "          n_jobs=None)"
      ]
     },
     "execution_count": 53,
     "metadata": {
      "tags": []
     },
     "output_type": "execute_result"
    }
   ],
   "source": [
    "clf.fit(X_train, y_train_genres)"
   ]
  },
  {
   "cell_type": "code",
   "execution_count": 0,
   "metadata": {
    "colab": {
     "base_uri": "https://localhost:8080/",
     "height": 34
    },
    "colab_type": "code",
    "id": "dLDmiUsY_JvE",
    "outputId": "4e8b0770-03a5-4b7f-c898-829fd55a450d"
   },
   "outputs": [
    {
     "data": {
      "text/plain": [
       "0.8223636236989332"
      ]
     },
     "execution_count": 54,
     "metadata": {
      "tags": []
     },
     "output_type": "execute_result"
    }
   ],
   "source": [
    "clf.fit(X_train, y_train_genres)\n",
    "y_pred_genres = clf.predict_proba(X_test)\n",
    "roc_auc_score(y_test_genres, y_pred_genres, average='macro')"
   ]
  },
  {
   "cell_type": "markdown",
   "metadata": {
    "colab_type": "text",
    "id": "-VBDOIytAKNl"
   },
   "source": [
    "# RF Unificado Year, plot y title count vectorizer"
   ]
  },
  {
   "cell_type": "code",
   "execution_count": 0,
   "metadata": {
    "colab": {},
    "colab_type": "code",
    "id": "UK78Ey-q_8wr"
   },
   "outputs": [],
   "source": [
    "Plot_pro= dataTraining['plot']\n",
    "\n",
    "Plot_pro.replace('!','')\n",
    "Plot_pro.replace('\"','')\n",
    "Plot_pro.replace('$','')\n",
    "Plot_pro.replace('%','')\n",
    "Plot_pro.replace('&','')\n",
    "Plot_pro.replace('-','')\n",
    "Plot_pro.replace('/','')\n",
    "Plot_pro.replace('.','')\n",
    "Plot_pro.replace('?','')\n",
    "\n",
    "title_pro = dataTraining['title']\n",
    "\n",
    "title_pro.replace('!','')\n",
    "title_pro.replace('\"','')\n",
    "title_pro.replace('$','')\n",
    "title_pro.replace('%','')\n",
    "title_pro.replace('&','')\n",
    "title_pro.replace('-','')\n",
    "title_pro.replace('/','')\n",
    "title_pro.replace('.','')\n",
    "title_pro.replace('?','')\n",
    "\n",
    "Tit_ano= dataTraining['year']\n",
    "\n",
    "wordnet_lemmatizer = WordNetLemmatizer()\n",
    "\n",
    "def split_into_lemmas(text):\n",
    "    text = text.lower()\n",
    "    words = text.split()\n",
    "    return [wordnet_lemmatizer.lemmatize(word) for word in words]\n",
    "  \n",
    "vect = CountVectorizer(max_features=9000,stop_words='english',analyzer=split_into_lemmas,ngram_range=(1, 8))\n",
    "#stop_words=('english')\n",
    "X_dtm = vect.fit_transform(Plot_pro)\n",
    "X_dtm.shape\n",
    "\n",
    "vect2 = CountVectorizer(max_features=4000,stop_words='english',analyzer=split_into_lemmas,ngram_range=(1, 8))\n",
    "X_dtm2 = vect2.fit_transform(title_pro)\n",
    "X_dtm2.shape\n",
    "\n",
    "X_dtm =pd.DataFrame(X_dtm.todense())\n",
    "\n",
    "X_dtm2 =pd.DataFrame(X_dtm2.todense())\n",
    "\n",
    "pattern = r'[^a-zA-Z0-9\\s]'\n",
    "Plot_pro = dataTraining['plot'].replace(pattern,'')\n",
    "resu = pd.concat([X_dtm, Tit_ano], axis=1)\n",
    "result = pd.concat([X_dtm2, resu], axis=1)\n",
    "\n"
   ]
  },
  {
   "cell_type": "code",
   "execution_count": 0,
   "metadata": {
    "colab": {},
    "colab_type": "code",
    "id": "-8CdJtSHCQjk"
   },
   "outputs": [],
   "source": [
    "clf = OneVsRestClassifier(RandomForestClassifier(n_jobs=-1, n_estimators=300, max_depth=11, random_state=42))"
   ]
  },
  {
   "cell_type": "code",
   "execution_count": 0,
   "metadata": {
    "colab": {},
    "colab_type": "code",
    "id": "IA-nDqTLCdOl"
   },
   "outputs": [],
   "source": [
    "X_train, X_test, y_train_genres, y_test_genres = train_test_split(result, y_genres, test_size=0.20, random_state=42)"
   ]
  },
  {
   "cell_type": "code",
   "execution_count": 0,
   "metadata": {
    "colab": {
     "base_uri": "https://localhost:8080/",
     "height": 34
    },
    "colab_type": "code",
    "id": "YdbB4d6FCnYo",
    "outputId": "30d20da1-8e10-40af-eca9-d37456bc69ae"
   },
   "outputs": [
    {
     "data": {
      "text/plain": [
       "0.8518888314633873"
      ]
     },
     "execution_count": 59,
     "metadata": {
      "tags": []
     },
     "output_type": "execute_result"
    }
   ],
   "source": [
    "clf.fit(X_train, y_train_genres)\n",
    "y_pred_genres = clf.predict_proba(X_test)\n",
    "roc_auc_score(y_test_genres, y_pred_genres, average='macro')"
   ]
  },
  {
   "cell_type": "markdown",
   "metadata": {
    "colab_type": "text",
    "id": "FEueeGE0DkYp"
   },
   "source": [
    "# Modelo TfidfVectorizer"
   ]
  },
  {
   "cell_type": "code",
   "execution_count": 0,
   "metadata": {
    "colab": {},
    "colab_type": "code",
    "id": "jqUYHgtrDl12"
   },
   "outputs": [],
   "source": [
    "pattern = r'[^a-zA-Z0-9\\s]'\n",
    "Plot_pro = dataTraining['plot'].replace(pattern,'')\n",
    "Plot_pro.head()\n",
    "title_pro = dataTraining['title'].replace(pattern,'')\n",
    "Tit_ano= dataTraining['year']\n",
    "Tit_ano.head()\n",
    "wordnet_lemmatizer = WordNetLemmatizer()\n",
    "def split_into_lemmas(text):\n",
    "    text = text.lower()\n",
    "    words = text.split()\n",
    "    return [wordnet_lemmatizer.lemmatize(word) for word in words]\n",
    "vect = TfidfVectorizer(max_features=9000,stop_words='english',analyzer=split_into_lemmas,ngram_range=(1, 8))\n",
    "X_dtm = vect.fit_transform(Plot_pro)\n",
    "X_dtm.shape\n",
    "vect2 = TfidfVectorizer(max_features=7000,stop_words='english',analyzer=split_into_lemmas,ngram_range=(1, 8))\n",
    "X_dtm2 = vect2.fit_transform(title_pro)\n",
    "X_dtm2.shape\n",
    "X_dtm =pd.DataFrame(X_dtm.todense())\n",
    "X_dtm2 =pd.DataFrame(X_dtm2.todense())\n",
    "resu = pd.concat([X_dtm, Tit_ano], axis=1)\n",
    "result = pd.concat([X_dtm2, resu], axis=1)"
   ]
  },
  {
   "cell_type": "code",
   "execution_count": 0,
   "metadata": {
    "colab": {
     "base_uri": "https://localhost:8080/",
     "height": 34
    },
    "colab_type": "code",
    "id": "cdHmBzu2HxM9",
    "outputId": "8b9ea7c3-aed0-4eb9-f346-c0b6397a61f2"
   },
   "outputs": [
    {
     "data": {
      "text/plain": [
       "0.8427161341604452"
      ]
     },
     "execution_count": 64,
     "metadata": {
      "tags": []
     },
     "output_type": "execute_result"
    }
   ],
   "source": [
    "from sklearn.model_selection import cross_val_score\n",
    "\n",
    "scores1 = cross_val_score(OneVsRestClassifier(RandomForestClassifier(n_jobs=-1, n_estimators=300, max_depth=11, random_state=42)), result, y_genres, cv=2,scoring='roc_auc') \n",
    "\n",
    "np.average(scores1) "
   ]
  },
  {
   "cell_type": "markdown",
   "metadata": {
    "colab_type": "text",
    "id": "bTNPtH3nOSlP"
   },
   "source": [
    "# Modelo TfidfVectorizer adicionando data externa de 1000 peliculas "
   ]
  },
  {
   "cell_type": "code",
   "execution_count": 0,
   "metadata": {
    "colab": {},
    "colab_type": "code",
    "id": "TbOy0N1RSCjd"
   },
   "outputs": [],
   "source": [
    "dataTraining = pd.read_csv('https://github.com/albahnsen/PracticalMachineLearningClass/raw/master/datasets/dataTraining.zip', encoding='UTF-8', index_col=0)\n",
    "dataTesting = pd.read_csv('https://github.com/albahnsen/PracticalMachineLearningClass/raw/master/datasets/dataTesting.zip', encoding='UTF-8', index_col=0)"
   ]
  },
  {
   "cell_type": "code",
   "execution_count": 0,
   "metadata": {
    "colab": {},
    "colab_type": "code",
    "id": "hoIzomdBObW8"
   },
   "outputs": [],
   "source": [
    "data = pd.read_csv(\"add_data.csv\")\n",
    "dataTraining = pd.concat([dataTraining, data])\n",
    "dataTraining = dataTraining.reset_index(drop=True)\n",
    "pattern = r'[^a-zA-Z0-9\\s]'\n"
   ]
  },
  {
   "cell_type": "code",
   "execution_count": 0,
   "metadata": {
    "colab": {},
    "colab_type": "code",
    "id": "b7671AzmWxKm"
   },
   "outputs": [],
   "source": [
    "wordnet_lemmatizer = WordNetLemmatizer()\n",
    "\n",
    "def split_into_lemmas(text):\n",
    "    text = text.lower()\n",
    "    words = text.split()\n",
    "    return [wordnet_lemmatizer.lemmatize(word) for word in words]"
   ]
  },
  {
   "cell_type": "code",
   "execution_count": 0,
   "metadata": {
    "colab": {},
    "colab_type": "code",
    "id": "W7F9hUh3Putd"
   },
   "outputs": [],
   "source": [
    "#Creamos X\n",
    "vect = TfidfVectorizer(max_features=9000,stop_words='english',analyzer=split_into_lemmas,ngram_range=(1, 8))\n",
    "vect2 = TfidfVectorizer(max_features=4000,stop_words='english',analyzer=split_into_lemmas,ngram_range=(1, 8))"
   ]
  },
  {
   "cell_type": "code",
   "execution_count": 0,
   "metadata": {
    "colab": {},
    "colab_type": "code",
    "id": "hdrI3ybrScNi"
   },
   "outputs": [],
   "source": [
    "#Creamos Y\n",
    "dataTraining['genres'] = dataTraining['genres'].map(lambda x: eval(x))\n",
    "le = MultiLabelBinarizer()\n",
    "y_genres = le.fit_transform(dataTraining['genres'])"
   ]
  },
  {
   "cell_type": "code",
   "execution_count": 0,
   "metadata": {
    "colab": {},
    "colab_type": "code",
    "id": "hAZw2VExPw7W"
   },
   "outputs": [],
   "source": [
    "  Plot_pro = dataTraining['plot'].replace(pattern,'')\n",
    "  title_pro = dataTraining['title'].replace(pattern,'')\n",
    "  Tit_ano= dataTraining['year']\n",
    "  wordnet_lemmatizer = WordNetLemmatizer()\n",
    "  X_dtm = vect.fit_transform(Plot_pro)\n",
    "  X_dtm2 = vect2.fit_transform(title_pro)\n",
    "  X_dtm =pd.DataFrame(X_dtm.todense())\n",
    "  X_dtm2 =pd.DataFrame(X_dtm2.todense())\n",
    "  resu = pd.concat([X_dtm, Tit_ano], axis=1)\n",
    "  result = pd.concat([X_dtm2, resu], axis=1)"
   ]
  },
  {
   "cell_type": "code",
   "execution_count": 0,
   "metadata": {
    "colab": {},
    "colab_type": "code",
    "id": "FPeN_k9BQTXW"
   },
   "outputs": [],
   "source": [
    "  dataT = dataTesting\n",
    "  dataTesting = dataTesting.reset_index(drop=True)\n",
    "  X_test_dtm1 = vect.transform(dataTesting['plot'].replace(pattern,''))\n",
    "  X_test_dtm2= vect2.transform(dataTesting['title'].replace(pattern,''))\n",
    "  Tit_ano_tes= dataTesting['year']\n",
    "  X_test_dtm1 =pd.DataFrame(X_test_dtm1.todense())\n",
    "  X_test_dtm2 =pd.DataFrame(X_test_dtm2.todense())\n",
    "  resu_tes = pd.concat([X_test_dtm1, Tit_ano_tes], axis=1)\n",
    "  X_test_dtm = pd.concat([X_test_dtm2,resu_tes], axis=1)"
   ]
  },
  {
   "cell_type": "code",
   "execution_count": 0,
   "metadata": {
    "colab": {},
    "colab_type": "code",
    "id": "UtkhQQujQYAT"
   },
   "outputs": [],
   "source": [
    "clf = OneVsRestClassifier(RandomForestClassifier(n_jobs=-1, \n",
    "                                                 n_estimators=300,\n",
    "                                                 criterion='gini',\n",
    "                                                 max_leaf_nodes= None,\n",
    "                                                 max_depth=10,\n",
    "                                                 random_state=42))"
   ]
  },
  {
   "cell_type": "code",
   "execution_count": 0,
   "metadata": {
    "colab": {
     "base_uri": "https://localhost:8080/",
     "height": 136
    },
    "colab_type": "code",
    "id": "2uZcsEIVQh-t",
    "outputId": "eb883dec-a21d-48ed-a913-56786473c88e"
   },
   "outputs": [
    {
     "data": {
      "text/plain": [
       "OneVsRestClassifier(estimator=RandomForestClassifier(bootstrap=True, class_weight=None, criterion='gini',\n",
       "            max_depth=10, max_features='auto', max_leaf_nodes=None,\n",
       "            min_impurity_decrease=0.0, min_impurity_split=None,\n",
       "            min_samples_leaf=1, min_samples_split=2,\n",
       "            min_weight_fraction_leaf=0.0, n_estimators=300, n_jobs=-1,\n",
       "            oob_score=False, random_state=42, verbose=0, warm_start=False),\n",
       "          n_jobs=None)"
      ]
     },
     "execution_count": 12,
     "metadata": {
      "tags": []
     },
     "output_type": "execute_result"
    }
   ],
   "source": [
    "clf.fit(result, y_genres)"
   ]
  },
  {
   "cell_type": "code",
   "execution_count": 0,
   "metadata": {
    "colab": {},
    "colab_type": "code",
    "id": "oghSbgtfai9X"
   },
   "outputs": [],
   "source": [
    "scores1 = cross_val_score(OneVsRestClassifier(RandomForestClassifier(n_jobs=-1, n_estimators=300, max_depth=11, random_state=42)), result, y_genres, cv=2,scoring='roc_auc') \n",
    "\n",
    "np.average(scores1) "
   ]
  },
  {
   "cell_type": "markdown",
   "metadata": {
    "colab_type": "text",
    "id": "tdeg4XheZmmN"
   },
   "source": [
    "0.8663116134160"
   ]
  },
  {
   "cell_type": "markdown",
   "metadata": {},
   "source": [
    "# Modelo Final"
   ]
  },
  {
   "cell_type": "code",
   "execution_count": null,
   "metadata": {},
   "outputs": [],
   "source": [
    "dataTraining = pd.read_csv('https://github.com/albahnsen/PracticalMachineLearningClass/raw/master/datasets/dataTraining.zip', encoding='UTF-8', index_col=0)\n",
    "dataTesting = pd.read_csv('https://github.com/albahnsen/PracticalMachineLearningClass/raw/master/datasets/dataTesting.zip', encoding='UTF-8', index_col=0)"
   ]
  },
  {
   "cell_type": "code",
   "execution_count": null,
   "metadata": {},
   "outputs": [],
   "source": [
    "data = pd.read_csv(\"add_data.csv\")\n",
    "dataTraining = pd.concat([dataTraining, data])\n",
    "dataTraining = dataTraining.reset_index(drop=True)\n",
    "pattern = r'[^a-zA-Z0-9\\s]'"
   ]
  },
  {
   "cell_type": "code",
   "execution_count": null,
   "metadata": {},
   "outputs": [],
   "source": [
    "wordnet_lemmatizer = WordNetLemmatizer()\n",
    "\n",
    "def split_into_lemmas(text):\n",
    "    text = text.lower()\n",
    "    words = text.split()\n",
    "    return [wordnet_lemmatizer.lemmatize(word) for word in words]"
   ]
  },
  {
   "cell_type": "code",
   "execution_count": null,
   "metadata": {},
   "outputs": [],
   "source": [
    "#Creamos X\n",
    "vect = TfidfVectorizer(max_features=9000,stop_words='english',analyzer=split_into_lemmas,ngram_range=(1, 8))\n",
    "vect2 = TfidfVectorizer(max_features=4000,stop_words='english',analyzer=split_into_lemmas,ngram_range=(1, 8))"
   ]
  },
  {
   "cell_type": "code",
   "execution_count": null,
   "metadata": {},
   "outputs": [],
   "source": [
    "#Creamos Y\n",
    "dataTraining['genres'] = dataTraining['genres'].map(lambda x: eval(x))\n",
    "le = MultiLabelBinarizer()\n",
    "y_genres = le.fit_transform(dataTraining['genres'])"
   ]
  },
  {
   "cell_type": "code",
   "execution_count": null,
   "metadata": {},
   "outputs": [],
   "source": [
    "  Plot_pro = dataTraining['plot'].replace(pattern,'')\n",
    "  title_pro = dataTraining['title'].replace(pattern,'')\n",
    "  Tit_ano= dataTraining['year']\n",
    "  wordnet_lemmatizer = WordNetLemmatizer()\n",
    "  X_dtm = vect.fit_transform(Plot_pro)\n",
    "  X_dtm2 = vect2.fit_transform(title_pro)\n",
    "  X_dtm =pd.DataFrame(X_dtm.todense())\n",
    "  X_dtm2 =pd.DataFrame(X_dtm2.todense())\n",
    "  resu = pd.concat([X_dtm, Tit_ano], axis=1)\n",
    "  result = pd.concat([X_dtm2, resu], axis=1)"
   ]
  },
  {
   "cell_type": "code",
   "execution_count": null,
   "metadata": {},
   "outputs": [],
   "source": [
    "  dataT = dataTesting\n",
    "  dataTesting = dataTesting.reset_index(drop=True)\n",
    "  X_test_dtm1 = vect.transform(dataTesting['plot'].replace(pattern,''))\n",
    "  X_test_dtm2= vect2.transform(dataTesting['title'].replace(pattern,''))\n",
    "  Tit_ano_tes= dataTesting['year']\n",
    "  X_test_dtm1 =pd.DataFrame(X_test_dtm1.todense())\n",
    "  X_test_dtm2 =pd.DataFrame(X_test_dtm2.todense())\n",
    "  resu_tes = pd.concat([X_test_dtm1, Tit_ano_tes], axis=1)\n",
    "  X_test_dtm = pd.concat([X_test_dtm2,resu_tes], axis=1)"
   ]
  },
  {
   "cell_type": "code",
   "execution_count": null,
   "metadata": {},
   "outputs": [],
   "source": [
    "clf = OneVsRestClassifier(RandomForestClassifier(n_jobs=-1, \n",
    "                                                 n_estimators=1000,\n",
    "                                                 criterion='gini',\n",
    "                                                 max_leaf_nodes= None,\n",
    "                                                 min_samples_leaf = 1,\n",
    "                                                 min_samples_split=3,\n",
    "                                                 oob_score=True,\n",
    "                                                 max_depth=10,\n",
    "                                                 random_state=42))"
   ]
  },
  {
   "cell_type": "code",
   "execution_count": null,
   "metadata": {},
   "outputs": [],
   "source": [
    "clf.fit(result, y_genres)"
   ]
  },
  {
   "cell_type": "code",
   "execution_count": null,
   "metadata": {},
   "outputs": [],
   "source": [
    "scores1 = cross_val_score(OneVsRestClassifier(RandomForestClassifier(n_jobs=-1, n_estimators=300, max_depth=11, random_state=42)), result, y_genres, cv=2,scoring='roc_auc') \n",
    "\n",
    "np.average(scores1) "
   ]
  },
  {
   "cell_type": "markdown",
   "metadata": {},
   "source": [
    "0.88077"
   ]
  },
  {
   "attachments": {
    "image.png": {
     "image/png": "[encoded data removed]"
    }
   },
   "cell_type": "markdown",
   "metadata": {},
   "source": [
    "![image.png](attachment:image.png)"
   ]
  },
  {
   "cell_type": "code",
   "execution_count": 0,
   "metadata": {
    "colab": {},
    "colab_type": "code",
    "id": "a8CvApbHQ6bv"
   },
   "outputs": [],
   "source": [
    "cols = ['p_Action', 'p_Adventure', 'p_Animation', 'p_Biography', 'p_Comedy', 'p_Crime', 'p_Documentary', 'p_Drama', 'p_Family',\n",
    "        'p_Fantasy', 'p_Film-Noir', 'p_History', 'p_Horror', 'p_Music', 'p_Musical', 'p_Mystery', 'p_News', 'p_Romance',\n",
    "        'p_Sci-Fi', 'p_Short', 'p_Sport', 'p_Thriller', 'p_War', 'p_Western']"
   ]
  },
  {
   "cell_type": "code",
   "execution_count": 0,
   "metadata": {
    "colab": {},
    "colab_type": "code",
    "id": "kPJQaSUmRBKW"
   },
   "outputs": [],
   "source": [
    "y_pred_test_genres = clf.predict_proba(X_test_dtm)"
   ]
  },
  {
   "cell_type": "code",
   "execution_count": 0,
   "metadata": {
    "colab": {},
    "colab_type": "code",
    "id": "AAdO3SbgRMyw"
   },
   "outputs": [],
   "source": [
    "res = pd.DataFrame(y_pred_test_genres, index=dataT.index, columns=cols)\n"
   ]
  },
  {
   "cell_type": "code",
   "execution_count": 0,
   "metadata": {
    "colab": {
     "base_uri": "https://localhost:8080/",
     "height": 270
    },
    "colab_type": "code",
    "id": "vqHwlL7DRauO",
    "outputId": "ed93ccbb-d9ff-4527-d12b-fd2d8de50fb8"
   },
   "outputs": [
    {
     "data": {
      "text/html": [
       "<div>\n",
       "<style scoped>\n",
       "    .dataframe tbody tr th:only-of-type {\n",
       "        vertical-align: middle;\n",
       "    }\n",
       "\n",
       "    .dataframe tbody tr th {\n",
       "        vertical-align: top;\n",
       "    }\n",
       "\n",
       "    .dataframe thead th {\n",
       "        text-align: right;\n",
       "    }\n",
       "</style>\n",
       "<table border=\"1\" class=\"dataframe\">\n",
       "  <thead>\n",
       "    <tr style=\"text-align: right;\">\n",
       "      <th></th>\n",
       "      <th>p_Action</th>\n",
       "      <th>p_Adventure</th>\n",
       "      <th>p_Animation</th>\n",
       "      <th>p_Biography</th>\n",
       "      <th>p_Comedy</th>\n",
       "      <th>p_Crime</th>\n",
       "      <th>p_Documentary</th>\n",
       "      <th>p_Drama</th>\n",
       "      <th>p_Family</th>\n",
       "      <th>p_Fantasy</th>\n",
       "      <th>...</th>\n",
       "      <th>p_Musical</th>\n",
       "      <th>p_Mystery</th>\n",
       "      <th>p_News</th>\n",
       "      <th>p_Romance</th>\n",
       "      <th>p_Sci-Fi</th>\n",
       "      <th>p_Short</th>\n",
       "      <th>p_Sport</th>\n",
       "      <th>p_Thriller</th>\n",
       "      <th>p_War</th>\n",
       "      <th>p_Western</th>\n",
       "    </tr>\n",
       "  </thead>\n",
       "  <tbody>\n",
       "    <tr>\n",
       "      <th>1</th>\n",
       "      <td>0.149064</td>\n",
       "      <td>0.119495</td>\n",
       "      <td>0.031212</td>\n",
       "      <td>0.044335</td>\n",
       "      <td>0.399260</td>\n",
       "      <td>0.146094</td>\n",
       "      <td>0.037116</td>\n",
       "      <td>0.512557</td>\n",
       "      <td>0.073833</td>\n",
       "      <td>0.095680</td>\n",
       "      <td>...</td>\n",
       "      <td>0.025135</td>\n",
       "      <td>0.089547</td>\n",
       "      <td>0.000037</td>\n",
       "      <td>0.284553</td>\n",
       "      <td>0.071363</td>\n",
       "      <td>0.007561</td>\n",
       "      <td>0.023199</td>\n",
       "      <td>0.231647</td>\n",
       "      <td>0.028256</td>\n",
       "      <td>0.019400</td>\n",
       "    </tr>\n",
       "    <tr>\n",
       "      <th>4</th>\n",
       "      <td>0.168004</td>\n",
       "      <td>0.115696</td>\n",
       "      <td>0.027879</td>\n",
       "      <td>0.057555</td>\n",
       "      <td>0.352409</td>\n",
       "      <td>0.201782</td>\n",
       "      <td>0.057201</td>\n",
       "      <td>0.512857</td>\n",
       "      <td>0.083771</td>\n",
       "      <td>0.075825</td>\n",
       "      <td>...</td>\n",
       "      <td>0.028789</td>\n",
       "      <td>0.075965</td>\n",
       "      <td>0.000263</td>\n",
       "      <td>0.172131</td>\n",
       "      <td>0.073164</td>\n",
       "      <td>0.007717</td>\n",
       "      <td>0.023352</td>\n",
       "      <td>0.225138</td>\n",
       "      <td>0.039218</td>\n",
       "      <td>0.019607</td>\n",
       "    </tr>\n",
       "    <tr>\n",
       "      <th>5</th>\n",
       "      <td>0.170577</td>\n",
       "      <td>0.117295</td>\n",
       "      <td>0.027821</td>\n",
       "      <td>0.043862</td>\n",
       "      <td>0.303901</td>\n",
       "      <td>0.351756</td>\n",
       "      <td>0.021491</td>\n",
       "      <td>0.572939</td>\n",
       "      <td>0.070876</td>\n",
       "      <td>0.076387</td>\n",
       "      <td>...</td>\n",
       "      <td>0.028113</td>\n",
       "      <td>0.172748</td>\n",
       "      <td>0.003353</td>\n",
       "      <td>0.249711</td>\n",
       "      <td>0.077132</td>\n",
       "      <td>0.007482</td>\n",
       "      <td>0.027012</td>\n",
       "      <td>0.385400</td>\n",
       "      <td>0.030648</td>\n",
       "      <td>0.029137</td>\n",
       "    </tr>\n",
       "    <tr>\n",
       "      <th>6</th>\n",
       "      <td>0.159636</td>\n",
       "      <td>0.132796</td>\n",
       "      <td>0.027821</td>\n",
       "      <td>0.040168</td>\n",
       "      <td>0.340591</td>\n",
       "      <td>0.157487</td>\n",
       "      <td>0.028830</td>\n",
       "      <td>0.571430</td>\n",
       "      <td>0.070322</td>\n",
       "      <td>0.078861</td>\n",
       "      <td>...</td>\n",
       "      <td>0.031011</td>\n",
       "      <td>0.098383</td>\n",
       "      <td>0.000012</td>\n",
       "      <td>0.267417</td>\n",
       "      <td>0.100682</td>\n",
       "      <td>0.007560</td>\n",
       "      <td>0.027890</td>\n",
       "      <td>0.281112</td>\n",
       "      <td>0.056855</td>\n",
       "      <td>0.025870</td>\n",
       "    </tr>\n",
       "    <tr>\n",
       "      <th>7</th>\n",
       "      <td>0.151908</td>\n",
       "      <td>0.145667</td>\n",
       "      <td>0.030826</td>\n",
       "      <td>0.043867</td>\n",
       "      <td>0.343032</td>\n",
       "      <td>0.185606</td>\n",
       "      <td>0.024924</td>\n",
       "      <td>0.456421</td>\n",
       "      <td>0.078158</td>\n",
       "      <td>0.110245</td>\n",
       "      <td>...</td>\n",
       "      <td>0.043929</td>\n",
       "      <td>0.132308</td>\n",
       "      <td>0.003352</td>\n",
       "      <td>0.219221</td>\n",
       "      <td>0.254603</td>\n",
       "      <td>0.007611</td>\n",
       "      <td>0.023248</td>\n",
       "      <td>0.231995</td>\n",
       "      <td>0.031054</td>\n",
       "      <td>0.025473</td>\n",
       "    </tr>\n",
       "  </tbody>\n",
       "</table>\n",
       "<p>5 rows × 24 columns</p>\n",
       "</div>"
      ],
      "text/plain": [
       "   p_Action  p_Adventure  p_Animation  p_Biography  p_Comedy   p_Crime  \\\n",
       "1  0.149064     0.119495     0.031212     0.044335  0.399260  0.146094   \n",
       "4  0.168004     0.115696     0.027879     0.057555  0.352409  0.201782   \n",
       "5  0.170577     0.117295     0.027821     0.043862  0.303901  0.351756   \n",
       "6  0.159636     0.132796     0.027821     0.040168  0.340591  0.157487   \n",
       "7  0.151908     0.145667     0.030826     0.043867  0.343032  0.185606   \n",
       "\n",
       "   p_Documentary   p_Drama  p_Family  p_Fantasy    ...      p_Musical  \\\n",
       "1       0.037116  0.512557  0.073833   0.095680    ...       0.025135   \n",
       "4       0.057201  0.512857  0.083771   0.075825    ...       0.028789   \n",
       "5       0.021491  0.572939  0.070876   0.076387    ...       0.028113   \n",
       "6       0.028830  0.571430  0.070322   0.078861    ...       0.031011   \n",
       "7       0.024924  0.456421  0.078158   0.110245    ...       0.043929   \n",
       "\n",
       "   p_Mystery    p_News  p_Romance  p_Sci-Fi   p_Short   p_Sport  p_Thriller  \\\n",
       "1   0.089547  0.000037   0.284553  0.071363  0.007561  0.023199    0.231647   \n",
       "4   0.075965  0.000263   0.172131  0.073164  0.007717  0.023352    0.225138   \n",
       "5   0.172748  0.003353   0.249711  0.077132  0.007482  0.027012    0.385400   \n",
       "6   0.098383  0.000012   0.267417  0.100682  0.007560  0.027890    0.281112   \n",
       "7   0.132308  0.003352   0.219221  0.254603  0.007611  0.023248    0.231995   \n",
       "\n",
       "      p_War  p_Western  \n",
       "1  0.028256   0.019400  \n",
       "4  0.039218   0.019607  \n",
       "5  0.030648   0.029137  \n",
       "6  0.056855   0.025870  \n",
       "7  0.031054   0.025473  \n",
       "\n",
       "[5 rows x 24 columns]"
      ]
     },
     "execution_count": 19,
     "metadata": {
      "tags": []
     },
     "output_type": "execute_result"
    }
   ],
   "source": [
    "res.head()"
   ]
  },
  {
   "cell_type": "code",
   "execution_count": 0,
   "metadata": {
    "colab": {},
    "colab_type": "code",
    "id": "aJ4Ov9DnRTXG"
   },
   "outputs": [],
   "source": [
    "res.to_csv('pred_genres_text_RF.csv', index_label='ID')"
   ]
  },
  {
   "cell_type": "markdown",
   "metadata": {
    "colab_type": "text",
    "id": "FoUHvklVSKQn"
   },
   "source": [
    "# Api y App"
   ]
  },
  {
   "cell_type": "markdown",
   "metadata": {
    "colab_type": "text",
    "id": "ltrsFkMySQGb"
   },
   "source": [
    "[Api](52.226.66.146:8080)\n",
    "\n",
    "[App](52.226.66.146:8081)"
   ]
  }
 ],
 "metadata": {
  "colab": {
   "collapsed_sections": [],
   "name": "Proyecto 2 Final.ipynb",
   "provenance": [],
   "version": "0.3.2"
  },
  "kernelspec": {
   "display_name": "Python 3",
   "language": "python",
   "name": "python3"
  },
  "language_info": {
   "codemirror_mode": {
    "name": "ipython",
    "version": 3
   },
   "file_extension": ".py",
   "mimetype": "text/x-python",
   "name": "python",
   "nbconvert_exporter": "python",
   "pygments_lexer": "ipython3",
   "version": "3.7.1"
  }
 },
 "nbformat": 4,
 "nbformat_minor": 1
}
