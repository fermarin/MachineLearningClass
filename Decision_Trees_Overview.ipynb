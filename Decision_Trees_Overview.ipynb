{
 "cells": [
  {
   "cell_type": "markdown",
   "metadata": {},
   "source": [
    "Los arboles de decisión de dividen en dos grandes tipos:\n",
    "    \n",
    "Árboles de clasificación es cuando el resultado predicho es la clase a la que pertenecen los datos.\n",
    "\n",
    "Árboles de regresión es cuando el resultado predicho se puede considerar un número real\n",
    "\n",
    "Los árboles utilizados para la regresión y los árboles utilizados para la clasificación tienen algunas similitudes - pero también algunas diferencias, tales como el procedimiento utilizado para determinar donde dividir.\n",
    "\n",
    "Aplicaciones:\n",
    "\n",
    "Segmentación:  Identifique personas que probablemente sean miembros de una clase concreta.\n",
    "Estratificación: Asigna los casos a una categoría de entre varias, por ejemplo, grupos de alto riesgo, bajo riesgo y riesgo intermedio.\n",
    "Predicción: Crea reglas y las utiliza para predecir eventos futuros.\n",
    "Las predicciones también pueden significar intentos de relacionar atributos predictivos con valores de una variable continua.\n",
    "Reducción de datos y clasificación de variables Selecciona un subconjunto útil de predictores a partir de un gran conjunto de variables para utilizarlo en la creación de un modelo paramétrico formal.\n",
    "Identificación de interacción Identifica las relaciones que pertenecen sólo a subgrupos específicos y las especifica en un modelo paramétrico formal.\n",
    "Fusión de categorías y creación de tramos de variables continuas Vuelve a codificar las variables continuas y las categorías de los predictores del grupo, con una pérdida mínima de información.\n",
    "\n",
    "Algunas técnicas, a menudo llamados métodos conjuntos híbridos, construyen más de un árbol de decisión:\n",
    "\n",
    "Bagging, un método de conjunto construye múltiples árboles de decisión haciendo repetidamente remuestreo de los datos de entrenamiento con sustitución, y votando los árboles para hallar una predicción de consenso.\n",
    "Un clasificador Random Forest utiliza una serie de árboles de decisión, con el fin de mejorar la tasa de clasificación.\n",
    "Rotation Forest En el que cada árbol de decisión es entrenado aplicando primero análisis de componentes principales (ACP) en un subconjunto aleatorio de las características de entrada\n"
   ]
  }
 ],
 "metadata": {
  "kernelspec": {
   "display_name": "Python 3",
   "language": "python",
   "name": "python3"
  },
  "language_info": {
   "codemirror_mode": {
    "name": "ipython",
    "version": 3
   },
   "file_extension": ".py",
   "mimetype": "text/x-python",
   "name": "python",
   "nbconvert_exporter": "python",
   "pygments_lexer": "ipython3",
   "version": "3.7.1"
  }
 },
 "nbformat": 4,
 "nbformat_minor": 2
}
