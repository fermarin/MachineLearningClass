{
  "nbformat": 4,
  "nbformat_minor": 0,
  "metadata": {
    "colab": {
      "name": "E18-ClassHomeworksAnalysis.ipynb",
      "version": "0.3.2",
      "provenance": []
    },
    "language_info": {
      "codemirror_mode": {
        "name": "ipython",
        "version": 3
      },
      "file_extension": ".py",
      "mimetype": "text/x-python",
      "name": "python",
      "nbconvert_exporter": "python",
      "pygments_lexer": "ipython3",
      "version": "3.7.1"
    },
    "kernelspec": {
      "display_name": "Python 3",
      "language": "python",
      "name": "python3"
    }
  },
  "cells": [
    {
      "cell_type": "markdown",
      "metadata": {
        "id": "NodvbBkqlG-4",
        "colab_type": "text"
      },
      "source": [
        "# Exercise 18\n",
        "\n",
        "## Analyze class homeworks\n"
      ]
    },
    {
      "cell_type": "code",
      "metadata": {
        "id": "AdhZQ3ILlG-6",
        "colab_type": "code",
        "colab": {
          "base_uri": "https://localhost:8080/",
          "height": 323
        },
        "outputId": "e592e629-b6ba-4dff-82ed-df504bea4048"
      },
      "source": [
        "import pandas as pd\n",
        "import numpy as np\n",
        "\n",
        "\n",
        "import pandas as pd\n",
        "import numpy as np\n",
        "import scipy as sp\n",
        "from sklearn.model_selection import train_test_split, cross_val_score\n",
        "from sklearn.feature_extraction.text import CountVectorizer, TfidfVectorizer\n",
        "from sklearn.naive_bayes import MultinomialNB\n",
        "from sklearn.linear_model import LogisticRegression\n",
        "from sklearn import metrics\n",
        "# from textblob import TextBlob, Word\n",
        "from nltk.stem.snowball import SnowballStemmer\n",
        "\n",
        "%matplotlib inline\n",
        "import matplotlib.pyplot as plt\n",
        "\n",
        "data = pd.read_excel('https://raw.githubusercontent.com/albahnsen/PracticalMachineLearningClass/master/datasets/E18.xlsx')\n",
        "data.head()\n",
        "\n",
        "\n"
      ],
      "execution_count": 1,
      "outputs": [
        {
          "output_type": "execute_result",
          "data": {
            "text/html": [
              "<div>\n",
              "<style scoped>\n",
              "    .dataframe tbody tr th:only-of-type {\n",
              "        vertical-align: middle;\n",
              "    }\n",
              "\n",
              "    .dataframe tbody tr th {\n",
              "        vertical-align: top;\n",
              "    }\n",
              "\n",
              "    .dataframe thead th {\n",
              "        text-align: right;\n",
              "    }\n",
              "</style>\n",
              "<table border=\"1\" class=\"dataframe\">\n",
              "  <thead>\n",
              "    <tr style=\"text-align: right;\">\n",
              "      <th></th>\n",
              "      <th>Sexo</th>\n",
              "      <th>T1</th>\n",
              "      <th>T2</th>\n",
              "      <th>T3</th>\n",
              "      <th>T4</th>\n",
              "      <th>T5</th>\n",
              "      <th>T6</th>\n",
              "    </tr>\n",
              "  </thead>\n",
              "  <tbody>\n",
              "    <tr>\n",
              "      <th>0</th>\n",
              "      <td>H</td>\n",
              "      <td>Un científico de datos y un ingeniero de datos...</td>\n",
              "      <td>NaN</td>\n",
              "      <td>Los árboles de decisión es uno de los algoritm...</td>\n",
              "      <td>NaN</td>\n",
              "      <td>En el documento \"Do We Need Hundreds of Classi...</td>\n",
              "      <td>Boosting builds models from individual so call...</td>\n",
              "    </tr>\n",
              "    <tr>\n",
              "      <th>1</th>\n",
              "      <td>H</td>\n",
              "      <td>Aunque los dos perfiles cuentan con habilidade...</td>\n",
              "      <td>Aunque el conceso no es total en el tema de ma...</td>\n",
              "      <td>NaN</td>\n",
              "      <td>En Machine Learing el propósito de los métodos...</td>\n",
              "      <td>El paper publicado en 2014 hace una evaluación...</td>\n",
              "      <td>Gradient Boosting ClassifierGradient Boosting ...</td>\n",
              "    </tr>\n",
              "    <tr>\n",
              "      <th>2</th>\n",
              "      <td>H</td>\n",
              "      <td>Python vs Stata. Analizar información es un pr...</td>\n",
              "      <td>En el marco del Machine Learning encontramos c...</td>\n",
              "      <td>Árbol de clasificación Como su nombre lo indic...</td>\n",
              "      <td>Este es un mecanismo que utiliza varios algori...</td>\n",
              "      <td>El paper analiza 179 clasificadores de 17 dife...</td>\n",
              "      <td>Gradient Boosting Classifier busca aprender de...</td>\n",
              "    </tr>\n",
              "    <tr>\n",
              "      <th>3</th>\n",
              "      <td>M</td>\n",
              "      <td>Los algoritmos de machine learning buscan pred...</td>\n",
              "      <td>Los algoritmos de machine learning buscan pred...</td>\n",
              "      <td>Los arboles de decisión pertenecen a los algor...</td>\n",
              "      <td>Consideremos el siguiente ejemplo: Una persona...</td>\n",
              "      <td>¿Se necesitan cientos de modelos para resolver...</td>\n",
              "      <td>NaN</td>\n",
              "    </tr>\n",
              "    <tr>\n",
              "      <th>4</th>\n",
              "      <td>H</td>\n",
              "      <td>Python vs R para análisis de datos. A pesar de...</td>\n",
              "      <td>Tipos de aprendizaje en Machine Learning. El M...</td>\n",
              "      <td>Tipos de árboles de decisión y aplicaciones. U...</td>\n",
              "      <td>La combinación de modelos o ensemble es un mod...</td>\n",
              "      <td>En el articulo se analizan cerca de 180 clasif...</td>\n",
              "      <td>XGBoosting vs GBoosting. A pesar de que el alg...</td>\n",
              "    </tr>\n",
              "  </tbody>\n",
              "</table>\n",
              "</div>"
            ],
            "text/plain": [
              "  Sexo                                                 T1  \\\n",
              "0    H  Un científico de datos y un ingeniero de datos...   \n",
              "1    H  Aunque los dos perfiles cuentan con habilidade...   \n",
              "2    H  Python vs Stata. Analizar información es un pr...   \n",
              "3    M  Los algoritmos de machine learning buscan pred...   \n",
              "4    H  Python vs R para análisis de datos. A pesar de...   \n",
              "\n",
              "                                                  T2  \\\n",
              "0                                                NaN   \n",
              "1  Aunque el conceso no es total en el tema de ma...   \n",
              "2  En el marco del Machine Learning encontramos c...   \n",
              "3  Los algoritmos de machine learning buscan pred...   \n",
              "4  Tipos de aprendizaje en Machine Learning. El M...   \n",
              "\n",
              "                                                  T3  \\\n",
              "0  Los árboles de decisión es uno de los algoritm...   \n",
              "1                                                NaN   \n",
              "2  Árbol de clasificación Como su nombre lo indic...   \n",
              "3  Los arboles de decisión pertenecen a los algor...   \n",
              "4  Tipos de árboles de decisión y aplicaciones. U...   \n",
              "\n",
              "                                                  T4  \\\n",
              "0                                                NaN   \n",
              "1  En Machine Learing el propósito de los métodos...   \n",
              "2  Este es un mecanismo que utiliza varios algori...   \n",
              "3  Consideremos el siguiente ejemplo: Una persona...   \n",
              "4  La combinación de modelos o ensemble es un mod...   \n",
              "\n",
              "                                                  T5  \\\n",
              "0  En el documento \"Do We Need Hundreds of Classi...   \n",
              "1  El paper publicado en 2014 hace una evaluación...   \n",
              "2  El paper analiza 179 clasificadores de 17 dife...   \n",
              "3  ¿Se necesitan cientos de modelos para resolver...   \n",
              "4  En el articulo se analizan cerca de 180 clasif...   \n",
              "\n",
              "                                                  T6  \n",
              "0  Boosting builds models from individual so call...  \n",
              "1  Gradient Boosting ClassifierGradient Boosting ...  \n",
              "2  Gradient Boosting Classifier busca aprender de...  \n",
              "3                                                NaN  \n",
              "4  XGBoosting vs GBoosting. A pesar de que el alg...  "
            ]
          },
          "metadata": {
            "tags": []
          },
          "execution_count": 1
        }
      ]
    },
    {
      "cell_type": "markdown",
      "metadata": {
        "id": "ZRfpF6qDlG_B",
        "colab_type": "text"
      },
      "source": [
        "# Exercise 18.1\n",
        "\n",
        "Analyze the writing patterns of each student"
      ]
    },
    {
      "cell_type": "code",
      "metadata": {
        "id": "lbT4va1ilG_C",
        "colab_type": "code",
        "colab": {
          "base_uri": "https://localhost:8080/",
          "height": 153
        },
        "outputId": "696c11a0-6114-4aae-bbb5-6e314da29c80"
      },
      "source": [
        "data.isna().sum()"
      ],
      "execution_count": 2,
      "outputs": [
        {
          "output_type": "execute_result",
          "data": {
            "text/plain": [
              "Sexo     0\n",
              "T1       1\n",
              "T2      12\n",
              "T3      12\n",
              "T4       6\n",
              "T5       7\n",
              "T6      13\n",
              "dtype: int64"
            ]
          },
          "metadata": {
            "tags": []
          },
          "execution_count": 2
        }
      ]
    },
    {
      "cell_type": "code",
      "metadata": {
        "id": "Knp5ihFYlG_I",
        "colab_type": "code",
        "colab": {}
      },
      "source": [
        "data2=data.fillna(' ', inplace=False)"
      ],
      "execution_count": 0,
      "outputs": []
    },
    {
      "cell_type": "code",
      "metadata": {
        "id": "SlTRz5xGlG_M",
        "colab_type": "code",
        "colab": {
          "base_uri": "https://localhost:8080/",
          "height": 153
        },
        "outputId": "3f1a4bd2-0a22-48b7-c6f9-f619ead7b2a3"
      },
      "source": [
        "data2.isna().sum()"
      ],
      "execution_count": 4,
      "outputs": [
        {
          "output_type": "execute_result",
          "data": {
            "text/plain": [
              "Sexo    0\n",
              "T1      0\n",
              "T2      0\n",
              "T3      0\n",
              "T4      0\n",
              "T5      0\n",
              "T6      0\n",
              "dtype: int64"
            ]
          },
          "metadata": {
            "tags": []
          },
          "execution_count": 4
        }
      ]
    },
    {
      "cell_type": "code",
      "metadata": {
        "id": "h5HdDPKPlG_R",
        "colab_type": "code",
        "colab": {}
      },
      "source": [
        "data2[\"Total\"] = data2[\"T1\"]+data2[\"T2\"]+data2[\"T3\"]+data2[\"T4\"]+data2[\"T5\"]+data2[\"T6\"]"
      ],
      "execution_count": 0,
      "outputs": []
    },
    {
      "cell_type": "code",
      "metadata": {
        "id": "3DEFaK9AlG_V",
        "colab_type": "code",
        "colab": {}
      },
      "source": [
        "X = data2.Total"
      ],
      "execution_count": 0,
      "outputs": []
    },
    {
      "cell_type": "code",
      "metadata": {
        "id": "J8EwHVOPlG_Z",
        "colab_type": "code",
        "colab": {}
      },
      "source": [
        "vect = CountVectorizer()\n",
        "X_dtm = vect.fit_transform(X)"
      ],
      "execution_count": 0,
      "outputs": []
    },
    {
      "cell_type": "code",
      "metadata": {
        "id": "c01bUFRplG_c",
        "colab_type": "code",
        "colab": {}
      },
      "source": [
        "temp=X_dtm.todense()"
      ],
      "execution_count": 0,
      "outputs": []
    },
    {
      "cell_type": "code",
      "metadata": {
        "id": "8DJ7uIc0lG_i",
        "colab_type": "code",
        "colab": {
          "base_uri": "https://localhost:8080/",
          "height": 1969
        },
        "outputId": "a1ecea9a-e323-4cc0-e98a-0c030d3f718c"
      },
      "source": [
        "df=pd.DataFrame.from_dict(vect.vocabulary_, orient='index',columns=['Number'])#['sap']\n",
        "df.sort_values(by='Number', ascending=False)"
      ],
      "execution_count": 9,
      "outputs": [
        {
          "output_type": "execute_result",
          "data": {
            "text/html": [
              "<div>\n",
              "<style scoped>\n",
              "    .dataframe tbody tr th:only-of-type {\n",
              "        vertical-align: middle;\n",
              "    }\n",
              "\n",
              "    .dataframe tbody tr th {\n",
              "        vertical-align: top;\n",
              "    }\n",
              "\n",
              "    .dataframe thead th {\n",
              "        text-align: right;\n",
              "    }\n",
              "</style>\n",
              "<table border=\"1\" class=\"dataframe\">\n",
              "  <thead>\n",
              "    <tr style=\"text-align: right;\">\n",
              "      <th></th>\n",
              "      <th>Number</th>\n",
              "    </tr>\n",
              "  </thead>\n",
              "  <tbody>\n",
              "    <tr>\n",
              "      <th>útiles</th>\n",
              "      <td>5891</td>\n",
              "    </tr>\n",
              "    <tr>\n",
              "      <th>útil</th>\n",
              "      <td>5890</td>\n",
              "    </tr>\n",
              "    <tr>\n",
              "      <th>únicos</th>\n",
              "      <td>5889</td>\n",
              "    </tr>\n",
              "    <tr>\n",
              "      <th>único</th>\n",
              "      <td>5888</td>\n",
              "    </tr>\n",
              "    <tr>\n",
              "      <th>únicamente</th>\n",
              "      <td>5887</td>\n",
              "    </tr>\n",
              "    <tr>\n",
              "      <th>única</th>\n",
              "      <td>5886</td>\n",
              "    </tr>\n",
              "    <tr>\n",
              "      <th>últimos</th>\n",
              "      <td>5885</td>\n",
              "    </tr>\n",
              "    <tr>\n",
              "      <th>último</th>\n",
              "      <td>5884</td>\n",
              "    </tr>\n",
              "    <tr>\n",
              "      <th>últimas</th>\n",
              "      <td>5883</td>\n",
              "    </tr>\n",
              "    <tr>\n",
              "      <th>última</th>\n",
              "      <td>5882</td>\n",
              "    </tr>\n",
              "    <tr>\n",
              "      <th>óptimos</th>\n",
              "      <td>5881</td>\n",
              "    </tr>\n",
              "    <tr>\n",
              "      <th>óptimo</th>\n",
              "      <td>5880</td>\n",
              "    </tr>\n",
              "    <tr>\n",
              "      <th>óptimas</th>\n",
              "      <td>5879</td>\n",
              "    </tr>\n",
              "    <tr>\n",
              "      <th>óptima</th>\n",
              "      <td>5878</td>\n",
              "    </tr>\n",
              "    <tr>\n",
              "      <th>ítems</th>\n",
              "      <td>5877</td>\n",
              "    </tr>\n",
              "    <tr>\n",
              "      <th>ítem</th>\n",
              "      <td>5876</td>\n",
              "    </tr>\n",
              "    <tr>\n",
              "      <th>índices</th>\n",
              "      <td>5875</td>\n",
              "    </tr>\n",
              "    <tr>\n",
              "      <th>índice</th>\n",
              "      <td>5874</td>\n",
              "    </tr>\n",
              "    <tr>\n",
              "      <th>éxitos</th>\n",
              "      <td>5873</td>\n",
              "    </tr>\n",
              "    <tr>\n",
              "      <th>éxito</th>\n",
              "      <td>5872</td>\n",
              "    </tr>\n",
              "    <tr>\n",
              "      <th>éstos</th>\n",
              "      <td>5871</td>\n",
              "    </tr>\n",
              "    <tr>\n",
              "      <th>éste</th>\n",
              "      <td>5870</td>\n",
              "    </tr>\n",
              "    <tr>\n",
              "      <th>éstas</th>\n",
              "      <td>5869</td>\n",
              "    </tr>\n",
              "    <tr>\n",
              "      <th>énfasis</th>\n",
              "      <td>5868</td>\n",
              "    </tr>\n",
              "    <tr>\n",
              "      <th>él</th>\n",
              "      <td>5867</td>\n",
              "    </tr>\n",
              "    <tr>\n",
              "      <th>áreas</th>\n",
              "      <td>5866</td>\n",
              "    </tr>\n",
              "    <tr>\n",
              "      <th>área</th>\n",
              "      <td>5865</td>\n",
              "    </tr>\n",
              "    <tr>\n",
              "      <th>árbolesun</th>\n",
              "      <td>5864</td>\n",
              "    </tr>\n",
              "    <tr>\n",
              "      <th>árboles</th>\n",
              "      <td>5863</td>\n",
              "    </tr>\n",
              "    <tr>\n",
              "      <th>árbol</th>\n",
              "      <td>5862</td>\n",
              "    </tr>\n",
              "    <tr>\n",
              "      <th>...</th>\n",
              "      <td>...</td>\n",
              "    </tr>\n",
              "    <tr>\n",
              "      <th>1996</th>\n",
              "      <td>29</td>\n",
              "    </tr>\n",
              "    <tr>\n",
              "      <th>1991</th>\n",
              "      <td>28</td>\n",
              "    </tr>\n",
              "    <tr>\n",
              "      <th>1980</th>\n",
              "      <td>27</td>\n",
              "    </tr>\n",
              "    <tr>\n",
              "      <th>183k</th>\n",
              "      <td>26</td>\n",
              "    </tr>\n",
              "    <tr>\n",
              "      <th>183</th>\n",
              "      <td>25</td>\n",
              "    </tr>\n",
              "    <tr>\n",
              "      <th>180</th>\n",
              "      <td>24</td>\n",
              "    </tr>\n",
              "    <tr>\n",
              "      <th>179</th>\n",
              "      <td>23</td>\n",
              "    </tr>\n",
              "    <tr>\n",
              "      <th>172</th>\n",
              "      <td>22</td>\n",
              "    </tr>\n",
              "    <tr>\n",
              "      <th>170k</th>\n",
              "      <td>21</td>\n",
              "    </tr>\n",
              "    <tr>\n",
              "      <th>170</th>\n",
              "      <td>20</td>\n",
              "    </tr>\n",
              "    <tr>\n",
              "      <th>17</th>\n",
              "      <td>19</td>\n",
              "    </tr>\n",
              "    <tr>\n",
              "      <th>165</th>\n",
              "      <td>18</td>\n",
              "    </tr>\n",
              "    <tr>\n",
              "      <th>16</th>\n",
              "      <td>17</td>\n",
              "    </tr>\n",
              "    <tr>\n",
              "      <th>15872</th>\n",
              "      <td>16</td>\n",
              "    </tr>\n",
              "    <tr>\n",
              "      <th>151k</th>\n",
              "      <td>15</td>\n",
              "    </tr>\n",
              "    <tr>\n",
              "      <th>151</th>\n",
              "      <td>14</td>\n",
              "    </tr>\n",
              "    <tr>\n",
              "      <th>140k</th>\n",
              "      <td>13</td>\n",
              "    </tr>\n",
              "    <tr>\n",
              "      <th>140</th>\n",
              "      <td>12</td>\n",
              "    </tr>\n",
              "    <tr>\n",
              "      <th>14</th>\n",
              "      <td>11</td>\n",
              "    </tr>\n",
              "    <tr>\n",
              "      <th>130000</th>\n",
              "      <td>10</td>\n",
              "    </tr>\n",
              "    <tr>\n",
              "      <th>123</th>\n",
              "      <td>9</td>\n",
              "    </tr>\n",
              "    <tr>\n",
              "      <th>121</th>\n",
              "      <td>8</td>\n",
              "    </tr>\n",
              "    <tr>\n",
              "      <th>12</th>\n",
              "      <td>7</td>\n",
              "    </tr>\n",
              "    <tr>\n",
              "      <th>112</th>\n",
              "      <td>6</td>\n",
              "    </tr>\n",
              "    <tr>\n",
              "      <th>11</th>\n",
              "      <td>5</td>\n",
              "    </tr>\n",
              "    <tr>\n",
              "      <th>102</th>\n",
              "      <td>4</td>\n",
              "    </tr>\n",
              "    <tr>\n",
              "      <th>101</th>\n",
              "      <td>3</td>\n",
              "    </tr>\n",
              "    <tr>\n",
              "      <th>100</th>\n",
              "      <td>2</td>\n",
              "    </tr>\n",
              "    <tr>\n",
              "      <th>10</th>\n",
              "      <td>1</td>\n",
              "    </tr>\n",
              "    <tr>\n",
              "      <th>000</th>\n",
              "      <td>0</td>\n",
              "    </tr>\n",
              "  </tbody>\n",
              "</table>\n",
              "<p>5892 rows × 1 columns</p>\n",
              "</div>"
            ],
            "text/plain": [
              "            Number\n",
              "útiles        5891\n",
              "útil          5890\n",
              "únicos        5889\n",
              "único         5888\n",
              "únicamente    5887\n",
              "única         5886\n",
              "últimos       5885\n",
              "último        5884\n",
              "últimas       5883\n",
              "última        5882\n",
              "óptimos       5881\n",
              "óptimo        5880\n",
              "óptimas       5879\n",
              "óptima        5878\n",
              "ítems         5877\n",
              "ítem          5876\n",
              "índices       5875\n",
              "índice        5874\n",
              "éxitos        5873\n",
              "éxito         5872\n",
              "éstos         5871\n",
              "éste          5870\n",
              "éstas         5869\n",
              "énfasis       5868\n",
              "él            5867\n",
              "áreas         5866\n",
              "área          5865\n",
              "árbolesun     5864\n",
              "árboles       5863\n",
              "árbol         5862\n",
              "...            ...\n",
              "1996            29\n",
              "1991            28\n",
              "1980            27\n",
              "183k            26\n",
              "183             25\n",
              "180             24\n",
              "179             23\n",
              "172             22\n",
              "170k            21\n",
              "170             20\n",
              "17              19\n",
              "165             18\n",
              "16              17\n",
              "15872           16\n",
              "151k            15\n",
              "151             14\n",
              "140k            13\n",
              "140             12\n",
              "14              11\n",
              "130000          10\n",
              "123              9\n",
              "121              8\n",
              "12               7\n",
              "112              6\n",
              "11               5\n",
              "102              4\n",
              "101              3\n",
              "100              2\n",
              "10               1\n",
              "000              0\n",
              "\n",
              "[5892 rows x 1 columns]"
            ]
          },
          "metadata": {
            "tags": []
          },
          "execution_count": 9
        }
      ]
    },
    {
      "cell_type": "markdown",
      "metadata": {
        "id": "wBxt0606lG_n",
        "colab_type": "text"
      },
      "source": [
        "# Exercise 18.2\n",
        "\n",
        "Evaluate the similarities of the homeworks of the students\n",
        "\n",
        "tip: https://github.com/orsinium/textdistance"
      ]
    },
    {
      "cell_type": "code",
      "metadata": {
        "id": "-q_wchtllG_p",
        "colab_type": "code",
        "colab": {
          "base_uri": "https://localhost:8080/",
          "height": 51
        },
        "outputId": "8c400639-2674-4599-8824-724f89780128"
      },
      "source": [
        "from sklearn.feature_extraction.text import TfidfVectorizer\n",
        "\n",
        "tfidf = TfidfVectorizer().fit_transform(data2.Total)\n",
        "tfidf"
      ],
      "execution_count": 37,
      "outputs": [
        {
          "output_type": "execute_result",
          "data": {
            "text/plain": [
              "<42x5892 sparse matrix of type '<class 'numpy.float64'>'\n",
              "\twith 23210 stored elements in Compressed Sparse Row format>"
            ]
          },
          "metadata": {
            "tags": []
          },
          "execution_count": 37
        }
      ]
    },
    {
      "cell_type": "code",
      "metadata": {
        "id": "9bYLKK2elG_w",
        "colab_type": "code",
        "colab": {
          "base_uri": "https://localhost:8080/",
          "height": 170
        },
        "outputId": "e97bab6f-a94d-48f7-eadf-7b1932d58469"
      },
      "source": [
        "from sklearn.metrics.pairwise import linear_kernel\n",
        "\n",
        "cosine_similarities = linear_kernel(tfidf[0:1], tfidf).flatten()\n",
        "cosine_similarities"
      ],
      "execution_count": 38,
      "outputs": [
        {
          "output_type": "execute_result",
          "data": {
            "text/plain": [
              "array([1.        , 0.7080319 , 0.68806194, 0.68315145, 0.68733982,\n",
              "       0.67198529, 0.43845454, 0.72022712, 0.69667547, 0.7163757 ,\n",
              "       0.67971295, 0.78581136, 0.70872005, 0.68319567, 0.5935448 ,\n",
              "       0.45033204, 0.68008225, 0.7323431 , 0.70962727, 0.67783596,\n",
              "       0.68909146, 0.72949524, 0.65084057, 0.70823146, 0.65092852,\n",
              "       0.68325451, 0.7235075 , 0.65436555, 0.64971361, 0.7129934 ,\n",
              "       0.68927874, 0.67285875, 0.69888887, 0.73383415, 0.72820417,\n",
              "       0.70363278, 0.69170822, 0.72935159, 0.24073437, 0.69601001,\n",
              "       0.71585408, 0.71456039])"
            ]
          },
          "metadata": {
            "tags": []
          },
          "execution_count": 38
        }
      ]
    },
    {
      "cell_type": "code",
      "metadata": {
        "id": "fnO_B7TwlG_2",
        "colab_type": "code",
        "colab": {
          "base_uri": "https://localhost:8080/",
          "height": 34
        },
        "outputId": "0e551437-ac0b-4eab-9d3b-8af98cdd62f4"
      },
      "source": [
        "\n",
        "related_docs_indices = cosine_similarities.argsort()[:-5:-1]\n",
        "related_docs_indices"
      ],
      "execution_count": 39,
      "outputs": [
        {
          "output_type": "execute_result",
          "data": {
            "text/plain": [
              "array([ 0, 11, 33, 17])"
            ]
          },
          "metadata": {
            "tags": []
          },
          "execution_count": 39
        }
      ]
    },
    {
      "cell_type": "markdown",
      "metadata": {
        "id": "lEkWCls6lHAA",
        "colab_type": "text"
      },
      "source": [
        "# Exercise 18.3\n",
        "\n",
        "Create a classifier to predict the sex of each student\n",
        "\n"
      ]
    },
    {
      "cell_type": "code",
      "metadata": {
        "id": "owhC3PNJlHAC",
        "colab_type": "code",
        "colab": {
          "base_uri": "https://localhost:8080/",
          "height": 119
        },
        "outputId": "ba2b9bbd-e53a-48c9-a121-31ec274ca2e4"
      },
      "source": [
        "from sklearn.ensemble import RandomForestRegressor, RandomForestClassifier\n",
        "X_train, X_test, y_train, y_test = train_test_split(X_dtm, data2['Sexo'], test_size=0.33, random_state=42)\n",
        "\n",
        "clf = RandomForestClassifier(n_jobs=-1,n_estimators=100, random_state=42)\n",
        "clf.fit(X_train, y_train)"
      ],
      "execution_count": 23,
      "outputs": [
        {
          "output_type": "execute_result",
          "data": {
            "text/plain": [
              "RandomForestClassifier(bootstrap=True, class_weight=None, criterion='gini',\n",
              "            max_depth=None, max_features='auto', max_leaf_nodes=None,\n",
              "            min_impurity_decrease=0.0, min_impurity_split=None,\n",
              "            min_samples_leaf=1, min_samples_split=2,\n",
              "            min_weight_fraction_leaf=0.0, n_estimators=100, n_jobs=-1,\n",
              "            oob_score=False, random_state=42, verbose=0, warm_start=False)"
            ]
          },
          "metadata": {
            "tags": []
          },
          "execution_count": 23
        }
      ]
    },
    {
      "cell_type": "code",
      "metadata": {
        "id": "RDIzmkbGlHAL",
        "colab_type": "code",
        "colab": {}
      },
      "source": [
        "y_pred = clf.predict(X_test)"
      ],
      "execution_count": 0,
      "outputs": []
    },
    {
      "cell_type": "code",
      "metadata": {
        "id": "FmQwnhKOlHAP",
        "colab_type": "code",
        "colab": {
          "base_uri": "https://localhost:8080/",
          "height": 34
        },
        "outputId": "fe25053b-fa1c-4c70-fa7c-808f18049fd9"
      },
      "source": [
        "from sklearn import metrics\n",
        "print(metrics.accuracy_score(y_test,y_pred))"
      ],
      "execution_count": 26,
      "outputs": [
        {
          "output_type": "stream",
          "text": [
            "0.9285714285714286\n"
          ],
          "name": "stdout"
        }
      ]
    },
    {
      "cell_type": "markdown",
      "metadata": {
        "id": "hzWxVROxm9TA",
        "colab_type": "text"
      },
      "source": [
        "Son pocas muestras para que el modelo aprenda de las pocas mujeres que hay en los datos"
      ]
    }
  ]
}