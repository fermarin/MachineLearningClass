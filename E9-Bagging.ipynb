{
 "cells": [
  {
   "cell_type": "markdown",
   "metadata": {},
   "source": [
    "# Exercise 9\n",
    "\n",
    "## Mashable news stories analysis\n",
    "\n",
    "Predicting if a news story is going to be popular\n"
   ]
  },
  {
   "cell_type": "code",
   "execution_count": 1,
   "metadata": {},
   "outputs": [
    {
     "data": {
      "text/html": [
       "<div>\n",
       "<style scoped>\n",
       "    .dataframe tbody tr th:only-of-type {\n",
       "        vertical-align: middle;\n",
       "    }\n",
       "\n",
       "    .dataframe tbody tr th {\n",
       "        vertical-align: top;\n",
       "    }\n",
       "\n",
       "    .dataframe thead th {\n",
       "        text-align: right;\n",
       "    }\n",
       "</style>\n",
       "<table border=\"1\" class=\"dataframe\">\n",
       "  <thead>\n",
       "    <tr style=\"text-align: right;\">\n",
       "      <th></th>\n",
       "      <th>url</th>\n",
       "      <th>timedelta</th>\n",
       "      <th>n_tokens_title</th>\n",
       "      <th>n_tokens_content</th>\n",
       "      <th>n_unique_tokens</th>\n",
       "      <th>n_non_stop_words</th>\n",
       "      <th>n_non_stop_unique_tokens</th>\n",
       "      <th>num_hrefs</th>\n",
       "      <th>num_self_hrefs</th>\n",
       "      <th>num_imgs</th>\n",
       "      <th>...</th>\n",
       "      <th>min_positive_polarity</th>\n",
       "      <th>max_positive_polarity</th>\n",
       "      <th>avg_negative_polarity</th>\n",
       "      <th>min_negative_polarity</th>\n",
       "      <th>max_negative_polarity</th>\n",
       "      <th>title_subjectivity</th>\n",
       "      <th>title_sentiment_polarity</th>\n",
       "      <th>abs_title_subjectivity</th>\n",
       "      <th>abs_title_sentiment_polarity</th>\n",
       "      <th>Popular</th>\n",
       "    </tr>\n",
       "  </thead>\n",
       "  <tbody>\n",
       "    <tr>\n",
       "      <th>0</th>\n",
       "      <td>http://mashable.com/2014/12/10/cia-torture-rep...</td>\n",
       "      <td>28.0</td>\n",
       "      <td>9.0</td>\n",
       "      <td>188.0</td>\n",
       "      <td>0.732620</td>\n",
       "      <td>1.0</td>\n",
       "      <td>0.844262</td>\n",
       "      <td>5.0</td>\n",
       "      <td>1.0</td>\n",
       "      <td>1.0</td>\n",
       "      <td>...</td>\n",
       "      <td>0.200000</td>\n",
       "      <td>0.80</td>\n",
       "      <td>-0.487500</td>\n",
       "      <td>-0.60</td>\n",
       "      <td>-0.250000</td>\n",
       "      <td>0.9</td>\n",
       "      <td>0.8</td>\n",
       "      <td>0.4</td>\n",
       "      <td>0.8</td>\n",
       "      <td>1</td>\n",
       "    </tr>\n",
       "    <tr>\n",
       "      <th>1</th>\n",
       "      <td>http://mashable.com/2013/10/18/bitlock-kicksta...</td>\n",
       "      <td>447.0</td>\n",
       "      <td>7.0</td>\n",
       "      <td>297.0</td>\n",
       "      <td>0.653199</td>\n",
       "      <td>1.0</td>\n",
       "      <td>0.815789</td>\n",
       "      <td>9.0</td>\n",
       "      <td>4.0</td>\n",
       "      <td>1.0</td>\n",
       "      <td>...</td>\n",
       "      <td>0.160000</td>\n",
       "      <td>0.50</td>\n",
       "      <td>-0.135340</td>\n",
       "      <td>-0.40</td>\n",
       "      <td>-0.050000</td>\n",
       "      <td>0.1</td>\n",
       "      <td>-0.1</td>\n",
       "      <td>0.4</td>\n",
       "      <td>0.1</td>\n",
       "      <td>0</td>\n",
       "    </tr>\n",
       "    <tr>\n",
       "      <th>2</th>\n",
       "      <td>http://mashable.com/2013/07/24/google-glass-po...</td>\n",
       "      <td>533.0</td>\n",
       "      <td>11.0</td>\n",
       "      <td>181.0</td>\n",
       "      <td>0.660377</td>\n",
       "      <td>1.0</td>\n",
       "      <td>0.775701</td>\n",
       "      <td>4.0</td>\n",
       "      <td>3.0</td>\n",
       "      <td>1.0</td>\n",
       "      <td>...</td>\n",
       "      <td>0.136364</td>\n",
       "      <td>1.00</td>\n",
       "      <td>0.000000</td>\n",
       "      <td>0.00</td>\n",
       "      <td>0.000000</td>\n",
       "      <td>0.3</td>\n",
       "      <td>1.0</td>\n",
       "      <td>0.2</td>\n",
       "      <td>1.0</td>\n",
       "      <td>0</td>\n",
       "    </tr>\n",
       "    <tr>\n",
       "      <th>3</th>\n",
       "      <td>http://mashable.com/2013/11/21/these-are-the-m...</td>\n",
       "      <td>413.0</td>\n",
       "      <td>12.0</td>\n",
       "      <td>781.0</td>\n",
       "      <td>0.497409</td>\n",
       "      <td>1.0</td>\n",
       "      <td>0.677350</td>\n",
       "      <td>10.0</td>\n",
       "      <td>3.0</td>\n",
       "      <td>1.0</td>\n",
       "      <td>...</td>\n",
       "      <td>0.100000</td>\n",
       "      <td>1.00</td>\n",
       "      <td>-0.195701</td>\n",
       "      <td>-0.40</td>\n",
       "      <td>-0.071429</td>\n",
       "      <td>0.0</td>\n",
       "      <td>0.0</td>\n",
       "      <td>0.5</td>\n",
       "      <td>0.0</td>\n",
       "      <td>0</td>\n",
       "    </tr>\n",
       "    <tr>\n",
       "      <th>4</th>\n",
       "      <td>http://mashable.com/2014/02/11/parking-ticket-...</td>\n",
       "      <td>331.0</td>\n",
       "      <td>8.0</td>\n",
       "      <td>177.0</td>\n",
       "      <td>0.685714</td>\n",
       "      <td>1.0</td>\n",
       "      <td>0.830357</td>\n",
       "      <td>3.0</td>\n",
       "      <td>2.0</td>\n",
       "      <td>1.0</td>\n",
       "      <td>...</td>\n",
       "      <td>0.100000</td>\n",
       "      <td>0.55</td>\n",
       "      <td>-0.175000</td>\n",
       "      <td>-0.25</td>\n",
       "      <td>-0.100000</td>\n",
       "      <td>0.0</td>\n",
       "      <td>0.0</td>\n",
       "      <td>0.5</td>\n",
       "      <td>0.0</td>\n",
       "      <td>0</td>\n",
       "    </tr>\n",
       "  </tbody>\n",
       "</table>\n",
       "<p>5 rows × 61 columns</p>\n",
       "</div>"
      ],
      "text/plain": [
       "                                                 url  timedelta  \\\n",
       "0  http://mashable.com/2014/12/10/cia-torture-rep...       28.0   \n",
       "1  http://mashable.com/2013/10/18/bitlock-kicksta...      447.0   \n",
       "2  http://mashable.com/2013/07/24/google-glass-po...      533.0   \n",
       "3  http://mashable.com/2013/11/21/these-are-the-m...      413.0   \n",
       "4  http://mashable.com/2014/02/11/parking-ticket-...      331.0   \n",
       "\n",
       "   n_tokens_title  n_tokens_content  n_unique_tokens  n_non_stop_words  \\\n",
       "0             9.0             188.0         0.732620               1.0   \n",
       "1             7.0             297.0         0.653199               1.0   \n",
       "2            11.0             181.0         0.660377               1.0   \n",
       "3            12.0             781.0         0.497409               1.0   \n",
       "4             8.0             177.0         0.685714               1.0   \n",
       "\n",
       "   n_non_stop_unique_tokens  num_hrefs  num_self_hrefs  num_imgs   ...     \\\n",
       "0                  0.844262        5.0             1.0       1.0   ...      \n",
       "1                  0.815789        9.0             4.0       1.0   ...      \n",
       "2                  0.775701        4.0             3.0       1.0   ...      \n",
       "3                  0.677350       10.0             3.0       1.0   ...      \n",
       "4                  0.830357        3.0             2.0       1.0   ...      \n",
       "\n",
       "   min_positive_polarity  max_positive_polarity  avg_negative_polarity  \\\n",
       "0               0.200000                   0.80              -0.487500   \n",
       "1               0.160000                   0.50              -0.135340   \n",
       "2               0.136364                   1.00               0.000000   \n",
       "3               0.100000                   1.00              -0.195701   \n",
       "4               0.100000                   0.55              -0.175000   \n",
       "\n",
       "   min_negative_polarity  max_negative_polarity  title_subjectivity  \\\n",
       "0                  -0.60              -0.250000                 0.9   \n",
       "1                  -0.40              -0.050000                 0.1   \n",
       "2                   0.00               0.000000                 0.3   \n",
       "3                  -0.40              -0.071429                 0.0   \n",
       "4                  -0.25              -0.100000                 0.0   \n",
       "\n",
       "   title_sentiment_polarity  abs_title_subjectivity  \\\n",
       "0                       0.8                     0.4   \n",
       "1                      -0.1                     0.4   \n",
       "2                       1.0                     0.2   \n",
       "3                       0.0                     0.5   \n",
       "4                       0.0                     0.5   \n",
       "\n",
       "   abs_title_sentiment_polarity  Popular  \n",
       "0                           0.8        1  \n",
       "1                           0.1        0  \n",
       "2                           1.0        0  \n",
       "3                           0.0        0  \n",
       "4                           0.0        0  \n",
       "\n",
       "[5 rows x 61 columns]"
      ]
     },
     "execution_count": 1,
     "metadata": {},
     "output_type": "execute_result"
    }
   ],
   "source": [
    "import pandas as pd\n",
    "import numpy as np\n",
    "\n",
    "url = 'https://raw.githubusercontent.com/albahnsen/PracticalMachineLearningClass/master/datasets/mashable.csv'\n",
    "train_df = pd.read_csv(url, index_col=0)\n",
    "train_df.head()"
   ]
  },
  {
   "cell_type": "code",
   "execution_count": 2,
   "metadata": {},
   "outputs": [
    {
     "data": {
      "text/plain": [
       "(6000, 61)"
      ]
     },
     "execution_count": 2,
     "metadata": {},
     "output_type": "execute_result"
    }
   ],
   "source": [
    "train_df.shape"
   ]
  },
  {
   "cell_type": "code",
   "execution_count": 3,
   "metadata": {},
   "outputs": [],
   "source": [
    "X = train_df.drop(['url', 'Popular'], axis=1)\n",
    "y = train_df['Popular']"
   ]
  },
  {
   "cell_type": "code",
   "execution_count": 4,
   "metadata": {},
   "outputs": [
    {
     "data": {
      "text/plain": [
       "0.5"
      ]
     },
     "execution_count": 4,
     "metadata": {},
     "output_type": "execute_result"
    }
   ],
   "source": [
    "y.mean()"
   ]
  },
  {
   "cell_type": "code",
   "execution_count": 5,
   "metadata": {},
   "outputs": [],
   "source": [
    "# train/test split\n",
    "from sklearn.model_selection import train_test_split\n",
    "X_train, X_test, y_train, y_test = train_test_split(X, y, random_state=1)"
   ]
  },
  {
   "cell_type": "code",
   "execution_count": null,
   "metadata": {},
   "outputs": [],
   "source": []
  },
  {
   "cell_type": "markdown",
   "metadata": {},
   "source": [
    "# Exercise 9.1\n",
    "\n",
    "Estimate a Decision Tree Classifier and a Logistic Regresion\n",
    "\n",
    "Evaluate using the following metrics:\n",
    "* Accuracy\n",
    "* F1-Score"
   ]
  },
  {
   "cell_type": "code",
   "execution_count": 6,
   "metadata": {},
   "outputs": [
    {
     "name": "stderr",
     "output_type": "stream",
     "text": [
      "C:\\ProgramData\\Anaconda3\\lib\\site-packages\\sklearn\\linear_model\\logistic.py:433: FutureWarning: Default solver will be changed to 'lbfgs' in 0.22. Specify a solver to silence this warning.\n",
      "  FutureWarning)\n"
     ]
    },
    {
     "name": "stdout",
     "output_type": "stream",
     "text": [
      "f1_score\n",
      "lr 0.7784448422854952\n",
      "dt 0.7268784181850604\n",
      "Accuracy\n",
      "lr 0.7886697661252141\n",
      "dt 0.7270946751741939\n"
     ]
    }
   ],
   "source": [
    "from sklearn.linear_model import LogisticRegression\n",
    "from sklearn.tree import DecisionTreeClassifier\n",
    "\n",
    "models = {'lr': LogisticRegression(),\n",
    "          'dt': DecisionTreeClassifier()}\n",
    "\n",
    "for model in models.keys():\n",
    "    models[model].fit(X_train, y_train)\n",
    "\n",
    "y_pred = pd.DataFrame(columns=models.keys())\n",
    "for model in models.keys():\n",
    "    y_pred[model] = models[model].predict(X_test)\n",
    "   \n",
    "    \n",
    "from sklearn import metrics\n",
    "print('f1_score')\n",
    "for model in models.keys():\n",
    "    print(model,np.sqrt(metrics.f1_score(y_pred[model], y_test)))   \n",
    "print('Accuracy')\n",
    "\n",
    "for model in models.keys():\n",
    "    print(model,np.sqrt(metrics.accuracy_score(y_pred[model], y_test)))   \n",
    "#dfgdf\n"
   ]
  },
  {
   "cell_type": "markdown",
   "metadata": {},
   "source": [
    "# Exercise 9.2\n",
    "\n",
    "Estimate 300 bagged samples\n",
    "\n",
    "Estimate the following set of classifiers:\n",
    "\n",
    "* 100 Decision Trees where max_depth=None\n",
    "* 100 Decision Trees where max_depth=2\n",
    "* 100 Logistic Regressions"
   ]
  },
  {
   "cell_type": "code",
   "execution_count": 7,
   "metadata": {},
   "outputs": [],
   "source": [
    "from sklearn.ensemble import BaggingClassifier\n",
    "\n",
    "models2 = {'dt': DecisionTreeClassifier(max_depth=None),\n",
    "          'dtdep2': DecisionTreeClassifier(max_depth=2),\n",
    "          'lr': LogisticRegression()}\n",
    "\n",
    "y_pred2 = pd.DataFrame(columns=models2.keys())\n",
    "for model2 in models2.keys():\n",
    "    models2[model2] = BaggingClassifier(base_estimator=models2[model2], n_estimators=100, bootstrap=True,\n",
    "                        random_state=1, n_jobs=-1, oob_score=True).fit(X_train, y_train)   \n"
   ]
  },
  {
   "cell_type": "markdown",
   "metadata": {},
   "source": [
    "# Exercise 9.3\n",
    "\n",
    "Ensemble using majority voting\n",
    "\n",
    "Evaluate using the following metrics:\n",
    "* Accuracy\n",
    "* F1-Score"
   ]
  },
  {
   "cell_type": "code",
   "execution_count": 8,
   "metadata": {},
   "outputs": [],
   "source": [
    "from sklearn.model_selection import train_test_split\n",
    "X_train, X_test, y_train, y_test = train_test_split(X, y, test_size=0.33, random_state=42)"
   ]
  },
  {
   "cell_type": "code",
   "execution_count": 9,
   "metadata": {},
   "outputs": [],
   "source": [
    "n_estimators = 100\n",
    "# set a seed for reproducibility\n",
    "np.random.seed(123)\n",
    "\n",
    "n_samples = X_train.shape[0]\n",
    "\n",
    "# create bootstrap samples (will be used to select rows from the DataFrame)\n",
    "samples = [np.random.choice(a=n_samples, size=n_samples, replace=True) for _ in range(n_estimators)]"
   ]
  },
  {
   "cell_type": "code",
   "execution_count": 10,
   "metadata": {},
   "outputs": [],
   "source": [
    "from sklearn.tree import DecisionTreeClassifier\n",
    "\n",
    "np.random.seed(123) \n",
    "seeds = np.random.randint(1, 10000, size=n_estimators)\n",
    "\n",
    "trees = {}\n",
    "for i in range(n_estimators):\n",
    "    trees[i] = DecisionTreeClassifier(max_features=\"sqrt\", max_depth=None, random_state=seeds[i])\n",
    "    trees[i].fit(X_train.iloc[samples[i]], y_train.iloc[samples[i]])"
   ]
  },
  {
   "cell_type": "code",
   "execution_count": 11,
   "metadata": {},
   "outputs": [
    {
     "data": {
      "text/plain": [
       "<bound method NDFrame.head of       0   1   2   3   4   5   6   7   8   9  ...  90  91  92  93  94  95  96  \\\n",
       "1782   1   1   1   1   0   1   1   1   1   1 ...   1   1   0   1   0   0   0   \n",
       "3917   0   1   0   0   0   1   1   0   0   1 ...   1   0   1   0   0   1   0   \n",
       "221    1   1   0   0   1   0   0   1   0   0 ...   0   1   0   0   0   0   1   \n",
       "2135   0   0   0   0   0   0   1   0   0   1 ...   0   0   1   0   0   1   0   \n",
       "5224   1   0   1   1   0   0   1   0   1   0 ...   1   0   0   0   1   0   0   \n",
       "1168   0   0   0   0   1   0   1   0   1   1 ...   1   0   1   0   0   1   0   \n",
       "879    0   0   1   0   0   0   0   0   0   0 ...   0   0   1   0   0   0   0   \n",
       "156    0   0   1   0   0   0   0   1   1   1 ...   0   0   0   0   0   1   0   \n",
       "1657   1   1   0   1   1   1   1   1   1   1 ...   0   0   0   1   1   1   1   \n",
       "323    0   1   0   1   0   0   0   0   0   0 ...   0   0   0   0   0   0   0   \n",
       "5302   1   0   1   0   0   0   1   0   1   1 ...   0   0   0   1   0   1   0   \n",
       "2611   0   1   1   1   0   0   1   0   1   1 ...   0   0   0   1   0   0   0   \n",
       "811    0   0   0   0   1   1   0   1   0   0 ...   0   1   1   0   0   0   1   \n",
       "393    0   1   1   1   0   1   1   1   0   1 ...   1   0   1   0   1   1   0   \n",
       "3593   0   1   1   1   0   0   0   0   0   0 ...   0   1   0   0   0   0   1   \n",
       "2638   0   0   1   1   1   0   1   1   1   1 ...   0   0   0   1   0   1   1   \n",
       "2187   1   1   0   0   1   0   1   1   1   0 ...   1   0   1   0   1   0   0   \n",
       "5351   0   0   0   0   0   1   1   0   0   0 ...   0   0   1   0   0   0   0   \n",
       "319    0   0   0   0   1   0   0   0   0   0 ...   0   0   1   0   0   0   0   \n",
       "167    0   1   1   1   1   1   1   1   1   1 ...   1   0   1   1   1   1   1   \n",
       "746    1   1   1   1   0   0   1   1   1   1 ...   1   1   1   1   1   1   1   \n",
       "5470   0   0   1   1   1   1   1   1   0   1 ...   1   0   0   1   1   1   1   \n",
       "3707   1   1   1   1   0   1   0   1   0   0 ...   0   1   0   1   0   1   0   \n",
       "2764   1   1   0   1   0   1   0   1   0   1 ...   0   0   1   1   1   0   1   \n",
       "5112   1   1   0   0   0   0   0   1   1   1 ...   1   1   0   1   0   0   0   \n",
       "4006   0   0   0   1   1   0   1   1   1   1 ...   1   1   0   1   0   0   0   \n",
       "1871   1   0   0   1   0   0   0   1   0   1 ...   1   0   1   1   1   0   1   \n",
       "5756   1   1   1   0   0   1   1   1   1   1 ...   1   1   1   1   0   1   1   \n",
       "3193   0   1   1   1   1   1   1   1   1   1 ...   1   0   0   1   0   0   1   \n",
       "3754   1   1   0   1   1   1   1   1   1   1 ...   1   1   0   1   0   0   0   \n",
       "...   ..  ..  ..  ..  ..  ..  ..  ..  ..  .. ...  ..  ..  ..  ..  ..  ..  ..   \n",
       "3628   0   0   1   1   1   1   0   1   1   0 ...   0   0   0   1   0   1   1   \n",
       "4829   0   0   0   0   1   0   0   0   1   1 ...   0   0   0   0   0   0   0   \n",
       "2149   1   1   0   0   0   0   1   0   1   0 ...   1   0   0   0   0   0   1   \n",
       "139    1   0   1   0   0   1   0   1   1   1 ...   1   0   0   0   1   0   0   \n",
       "5829   1   0   1   1   1   1   1   0   1   1 ...   0   1   1   1   0   1   1   \n",
       "5274   1   0   0   1   1   1   1   0   1   0 ...   1   1   1   1   1   1   1   \n",
       "2284   0   0   1   0   0   1   1   1   1   0 ...   1   0   0   0   0   0   1   \n",
       "5010   0   1   1   1   1   1   1   1   1   1 ...   1   0   0   1   1   1   1   \n",
       "1149   1   1   1   1   1   1   1   1   1   1 ...   0   1   1   1   1   1   1   \n",
       "4048   1   0   0   0   1   1   1   0   0   0 ...   1   0   1   1   1   0   1   \n",
       "2498   1   0   0   0   0   1   1   1   1   0 ...   0   1   0   0   0   0   0   \n",
       "2273   1   0   1   0   0   0   1   1   0   0 ...   1   0   0   1   1   0   1   \n",
       "2526   0   1   1   1   1   1   1   1   1   1 ...   1   1   1   1   1   1   0   \n",
       "463    0   0   1   0   1   0   0   0   0   0 ...   0   0   0   0   0   0   0   \n",
       "3307   1   0   0   1   1   0   1   1   1   0 ...   0   1   1   1   1   1   0   \n",
       "3132   1   0   0   1   0   1   0   1   0   0 ...   1   0   1   1   1   1   0   \n",
       "4985   1   1   1   0   1   0   0   1   0   1 ...   0   1   1   1   0   0   0   \n",
       "594    1   0   1   1   1   0   1   0   0   1 ...   1   1   1   1   1   1   1   \n",
       "3080   1   0   1   0   0   0   1   0   0   0 ...   0   0   0   0   0   1   0   \n",
       "1807   1   0   0   1   1   1   1   1   1   1 ...   1   0   1   1   1   0   1   \n",
       "5136   0   0   1   0   0   1   0   1   0   0 ...   0   0   1   0   0   0   0   \n",
       "450    1   1   1   1   1   1   1   1   1   1 ...   1   1   1   1   0   1   1   \n",
       "3043   0   0   0   1   0   0   1   0   0   0 ...   0   0   0   1   0   1   0   \n",
       "5826   0   0   0   0   1   0   0   0   0   1 ...   0   1   1   0   0   0   0   \n",
       "518    0   0   0   1   0   0   0   0   1   0 ...   0   0   0   1   0   0   1   \n",
       "2522   0   0   1   1   0   1   1   0   1   0 ...   0   0   1   0   0   0   0   \n",
       "312    1   1   1   1   1   1   1   0   0   0 ...   1   1   1   1   1   0   1   \n",
       "5887   1   0   0   1   0   0   1   0   1   1 ...   0   1   0   0   0   1   0   \n",
       "4483   0   0   0   1   1   1   1   1   1   0 ...   1   0   0   1   1   0   1   \n",
       "2647   1   0   1   0   0   1   0   0   0   1 ...   0   0   1   0   1   0   1   \n",
       "\n",
       "      97  98  99  \n",
       "1782   1   1   0  \n",
       "3917   0   0   1  \n",
       "221    0   1   1  \n",
       "2135   0   0   0  \n",
       "5224   0   0   1  \n",
       "1168   1   1   1  \n",
       "879    0   0   1  \n",
       "156    0   0   0  \n",
       "1657   0   1   0  \n",
       "323    1   0   0  \n",
       "5302   1   1   1  \n",
       "2611   0   0   0  \n",
       "811    1   0   0  \n",
       "393    1   1   1  \n",
       "3593   0   1   1  \n",
       "2638   0   0   1  \n",
       "2187   1   1   0  \n",
       "5351   1   1   1  \n",
       "319    1   0   1  \n",
       "167    1   1   1  \n",
       "746    1   1   1  \n",
       "5470   1   1   0  \n",
       "3707   0   1   0  \n",
       "2764   1   1   0  \n",
       "5112   0   1   0  \n",
       "4006   0   1   0  \n",
       "1871   1   0   1  \n",
       "5756   1   1   0  \n",
       "3193   0   1   1  \n",
       "3754   0   1   0  \n",
       "...   ..  ..  ..  \n",
       "3628   0   0   0  \n",
       "4829   0   1   0  \n",
       "2149   0   0   0  \n",
       "139    0   0   1  \n",
       "5829   1   1   1  \n",
       "5274   1   1   0  \n",
       "2284   0   1   0  \n",
       "5010   0   1   1  \n",
       "1149   1   1   0  \n",
       "4048   1   0   1  \n",
       "2498   0   1   1  \n",
       "2273   0   1   1  \n",
       "2526   1   1   1  \n",
       "463    0   0   0  \n",
       "3307   0   1   1  \n",
       "3132   0   0   1  \n",
       "4985   1   0   0  \n",
       "594    0   1   1  \n",
       "3080   1   0   0  \n",
       "1807   0   1   1  \n",
       "5136   0   0   1  \n",
       "450    1   1   1  \n",
       "3043   0   0   0  \n",
       "5826   0   0   0  \n",
       "518    0   0   0  \n",
       "2522   0   1   1  \n",
       "312    0   0   0  \n",
       "5887   0   0   1  \n",
       "4483   1   0   1  \n",
       "2647   0   1   0  \n",
       "\n",
       "[1980 rows x 100 columns]>"
      ]
     },
     "execution_count": 11,
     "metadata": {},
     "output_type": "execute_result"
    }
   ],
   "source": [
    "y_pred_df = pd.DataFrame(index=X_test.index, columns=list(range(n_estimators)))\n",
    "for i in range(n_estimators):\n",
    "    y_pred_df.iloc[:, i] = trees[i].predict(X_test)\n",
    "\n",
    "y_pred_df.head"
   ]
  },
  {
   "cell_type": "code",
   "execution_count": 12,
   "metadata": {},
   "outputs": [
    {
     "data": {
      "text/plain": [
       "0.6459689534301452"
      ]
     },
     "execution_count": 12,
     "metadata": {},
     "output_type": "execute_result"
    }
   ],
   "source": [
    "y_pred = (y_pred_df.sum(axis=1) >= (n_estimators / 2)).astype(np.int)\n",
    "\n",
    "from sklearn import metrics\n",
    "metrics.f1_score(y_pred, y_test)"
   ]
  },
  {
   "cell_type": "code",
   "execution_count": 13,
   "metadata": {},
   "outputs": [
    {
     "data": {
      "text/plain": [
       "0.6429292929292929"
      ]
     },
     "execution_count": 13,
     "metadata": {},
     "output_type": "execute_result"
    }
   ],
   "source": [
    "metrics.accuracy_score(y_pred, y_test)"
   ]
  },
  {
   "cell_type": "code",
   "execution_count": 14,
   "metadata": {},
   "outputs": [],
   "source": [
    "from sklearn.ensemble import BaggingClassifier\n",
    "clf = BaggingClassifier(base_estimator=DecisionTreeClassifier(), n_estimators=100, bootstrap=True,\n",
    "                        random_state=42, n_jobs=-1, oob_score=True)"
   ]
  },
  {
   "cell_type": "code",
   "execution_count": 15,
   "metadata": {},
   "outputs": [
    {
     "data": {
      "text/plain": [
       "(0.6318484383000512, 0.6368686868686869)"
      ]
     },
     "execution_count": 15,
     "metadata": {},
     "output_type": "execute_result"
    }
   ],
   "source": [
    "clf.fit(X_train, y_train)\n",
    "y_pred = clf.predict(X_test)\n",
    "metrics.f1_score(y_pred, y_test), metrics.accuracy_score(y_pred, y_test)"
   ]
  },
  {
   "cell_type": "markdown",
   "metadata": {},
   "source": [
    "# Exercise 9.4\n",
    "\n",
    "Estimate te probability as %models that predict positive\n",
    "\n",
    "Modify the probability threshold and select the one that maximizes the F1-Score"
   ]
  },
  {
   "cell_type": "code",
   "execution_count": 16,
   "metadata": {},
   "outputs": [
    {
     "data": {
      "text/plain": [
       "1782    62\n",
       "3917    45\n",
       "221     44\n",
       "2135    22\n",
       "5224    27\n",
       "1168    40\n",
       "879     18\n",
       "156     25\n",
       "1657    62\n",
       "323     23\n",
       "dtype: int64"
      ]
     },
     "execution_count": 16,
     "metadata": {},
     "output_type": "execute_result"
    }
   ],
   "source": [
    "y.value_counts().to_frame('count').assign(percentage = lambda x: x/x.sum())\n",
    "y_pred_df.sum(axis=1)[:10]"
   ]
  },
  {
   "cell_type": "code",
   "execution_count": 17,
   "metadata": {},
   "outputs": [
    {
     "name": "stdout",
     "output_type": "stream",
     "text": [
      "0.545959595959596\n",
      "0.5515151515151515\n",
      "0.5686868686868687\n",
      "0.5363636363636364\n",
      "0.5772727272727273\n",
      "0.5646464646464646\n",
      "0.5494949494949495\n",
      "0.5651515151515152\n",
      "0.5535353535353535\n",
      "0.555050505050505\n",
      "0.548989898989899\n",
      "0.5631313131313131\n",
      "0.5247474747474747\n",
      "0.5747474747474748\n",
      "0.5595959595959596\n",
      "0.5373737373737374\n",
      "0.5545454545454546\n",
      "0.555050505050505\n",
      "0.5772727272727273\n",
      "0.5601010101010101\n",
      "0.5565656565656566\n",
      "0.5717171717171717\n",
      "0.5494949494949495\n",
      "0.543939393939394\n",
      "0.5737373737373738\n",
      "0.5606060606060606\n",
      "0.5636363636363636\n",
      "0.55\n",
      "0.5585858585858586\n",
      "0.5646464646464646\n",
      "0.5641414141414142\n",
      "0.556060606060606\n",
      "0.5590909090909091\n",
      "0.5580808080808081\n",
      "0.5555555555555556\n",
      "0.5782828282828283\n",
      "0.5858585858585859\n",
      "0.5404040404040404\n",
      "0.5585858585858586\n",
      "0.557070707070707\n",
      "0.5555555555555556\n",
      "0.555050505050505\n",
      "0.5535353535353535\n",
      "0.5444444444444444\n",
      "0.557070707070707\n",
      "0.5656565656565656\n",
      "0.5434343434343434\n",
      "0.554040404040404\n",
      "0.5368686868686868\n",
      "0.5702020202020202\n",
      "0.5409090909090909\n",
      "0.5434343434343434\n",
      "0.5707070707070707\n",
      "0.5621212121212121\n",
      "0.5565656565656566\n",
      "0.5696969696969697\n",
      "0.5661616161616162\n",
      "0.5661616161616162\n",
      "0.5398989898989899\n",
      "0.5575757575757576\n",
      "0.547979797979798\n",
      "0.5565656565656566\n",
      "0.547979797979798\n",
      "0.5484848484848485\n",
      "0.55\n",
      "0.5666666666666667\n",
      "0.5621212121212121\n",
      "0.5722222222222222\n",
      "0.5681818181818182\n",
      "0.553030303030303\n",
      "0.5616161616161616\n",
      "0.5580808080808081\n",
      "0.5666666666666667\n",
      "0.5515151515151515\n",
      "0.5429292929292929\n",
      "0.5535353535353535\n",
      "0.5868686868686869\n",
      "0.5893939393939394\n",
      "0.5747474747474748\n",
      "0.5535353535353535\n",
      "0.5515151515151515\n",
      "0.5545454545454546\n",
      "0.5616161616161616\n",
      "0.5616161616161616\n",
      "0.543939393939394\n",
      "0.5702020202020202\n",
      "0.5606060606060606\n",
      "0.554040404040404\n",
      "0.5373737373737374\n",
      "0.5535353535353535\n",
      "0.546969696969697\n",
      "0.5732323232323232\n",
      "0.5616161616161616\n",
      "0.5419191919191919\n",
      "0.5601010101010101\n",
      "0.5651515151515152\n",
      "0.5626262626262626\n",
      "0.5535353535353535\n",
      "0.5631313131313131\n",
      "0.5722222222222222\n"
     ]
    }
   ],
   "source": [
    "res=[]\n",
    "for i in range(y_pred_df.shape[1]):\n",
    "    print(metrics.accuracy_score(y_pred_df.iloc[:,i], y_test))\n",
    "    "
   ]
  },
  {
   "cell_type": "code",
   "execution_count": 18,
   "metadata": {},
   "outputs": [
    {
     "name": "stdout",
     "output_type": "stream",
     "text": [
      "0.5424936386768447\n",
      "0.5455475946775844\n",
      "0.5647298674821611\n",
      "0.5344827586206897\n",
      "0.5821268097853219\n",
      "0.563323201621074\n",
      "0.5508559919436052\n",
      "0.5649317837291561\n",
      "0.5508130081300813\n",
      "0.5479733196511031\n",
      "0.5413456599897277\n",
      "0.5566376217324449\n",
      "0.5292646323161581\n",
      "0.5734549138804458\n",
      "0.5683168316831684\n",
      "0.5429141716566865\n",
      "0.5545454545454545\n",
      "0.5451729478575117\n",
      "0.5804511278195489\n",
      "0.5620915032679739\n",
      "0.557013118062563\n",
      "0.5751503006012024\n",
      "0.5444330949948928\n",
      "0.5399898115129904\n",
      "0.5800995024875623\n",
      "0.5561224489795918\n",
      "0.5541795665634676\n",
      "0.545176110260337\n",
      "0.5599194360523666\n",
      "0.5597548518896833\n",
      "0.5621511922881787\n",
      "0.5646359583952452\n",
      "0.5575266092245312\n",
      "0.5614035087719297\n",
      "0.5652173913043478\n",
      "0.5689210118740321\n",
      "0.5799180327868853\n",
      "0.5404040404040404\n",
      "0.5643070787637089\n",
      "0.5523226135783563\n",
      "0.5542046605876393\n",
      "0.5561712846347607\n",
      "0.5512690355329949\n",
      "0.5407331975560081\n",
      "0.5617191404297851\n",
      "0.553478712357217\n",
      "0.5354573484069887\n",
      "0.5460154241645244\n",
      "0.5356962025316456\n",
      "0.5712846347607052\n",
      "0.5326478149100257\n",
      "0.55203171456888\n",
      "0.5645491803278689\n",
      "0.5662831415707854\n",
      "0.5524974515800204\n",
      "0.572289156626506\n",
      "0.5556130367304708\n",
      "0.5749628896585849\n",
      "0.5296850800206505\n",
      "0.5507692307692308\n",
      "0.5412608918503332\n",
      "0.5506653019447287\n",
      "0.5513784461152883\n",
      "0.5343749999999999\n",
      "0.5470259278088461\n",
      "0.5666666666666667\n",
      "0.5645404319437469\n",
      "0.5750125439036627\n",
      "0.5626598465473146\n",
      "0.5477772100153296\n",
      "0.5580448065173116\n",
      "0.5600804424333836\n",
      "0.5684104627766601\n",
      "0.5432098765432098\n",
      "0.5399084900864259\n",
      "0.5562248995983936\n",
      "0.5787847579814624\n",
      "0.5896012115093386\n",
      "0.5773092369477912\n",
      "0.5553319919517102\n",
      "0.5436793422404933\n",
      "0.5504587155963302\n",
      "0.5593908629441625\n",
      "0.562058526740666\n",
      "0.5460030165912518\n",
      "0.5678009141696293\n",
      "0.5406546990496304\n",
      "0.560039860488291\n",
      "0.5345528455284553\n",
      "0.5610724925521351\n",
      "0.5378670788253477\n",
      "0.5651055069480185\n",
      "0.5497925311203319\n",
      "0.5480817140009965\n",
      "0.5620915032679739\n",
      "0.5658093797276853\n",
      "0.5635080645161289\n",
      "0.5521783181357649\n",
      "0.5668502754131197\n",
      "0.5707045108971109\n"
     ]
    }
   ],
   "source": [
    "res1=[]\n",
    "for i in range(y_pred_df.shape[1]):\n",
    "    print(metrics.f1_score(y_pred_df.iloc[:,i], y_test))"
   ]
  },
  {
   "cell_type": "markdown",
   "metadata": {},
   "source": [
    "# Exercise 9.5\n",
    "\n",
    "Ensemble using weighted voting using the oob_error\n",
    "\n",
    "Evaluate using the following metrics:\n",
    "* Accuracy\n",
    "* F1-Score"
   ]
  },
  {
   "cell_type": "code",
   "execution_count": 21,
   "metadata": {},
   "outputs": [
    {
     "data": {
      "text/plain": [
       "(0.6318484383000512, 0.6368686868686869)"
      ]
     },
     "execution_count": 21,
     "metadata": {},
     "output_type": "execute_result"
    }
   ],
   "source": [
    "clf = BaggingClassifier(base_estimator=DecisionTreeClassifier(), n_estimators=100, bootstrap=True,\n",
    "                        random_state=42, n_jobs=-1, oob_score=True)\n",
    "clf.fit(X_train, y_train)\n",
    "y_pred = clf.predict(X_test)\n",
    "metrics.f1_score(y_pred, y_test), metrics.accuracy_score(y_pred, y_test)"
   ]
  },
  {
   "cell_type": "code",
   "execution_count": 22,
   "metadata": {},
   "outputs": [],
   "source": [
    "errors = np.zeros(clf.n_estimators)\n",
    "y_pred_all_ = np.zeros((X_test.shape[0], clf.n_estimators))\n",
    "\n",
    "for i in range(clf.n_estimators):\n",
    "    oob_sample = ~clf.estimators_samples_[i]\n",
    "    y_pred_ = clf.estimators_[i].predict(X_train.values[oob_sample])\n",
    "    errors[i] = metrics.accuracy_score(y_pred_, y_train.values[oob_sample])\n",
    "    y_pred_all_[:, i] = clf.estimators_[i].predict(X_test)\n",
    "    \n",
    "alpha = (1 - errors) / (1 - errors).sum()\n",
    "y_pred = (np.sum(y_pred_all_ * alpha, axis=1) >= 0.5).astype(np.int)"
   ]
  },
  {
   "cell_type": "code",
   "execution_count": 23,
   "metadata": {},
   "outputs": [
    {
     "data": {
      "text/plain": [
       "(0.6345666497719209, 0.6358585858585859)"
      ]
     },
     "execution_count": 23,
     "metadata": {},
     "output_type": "execute_result"
    }
   ],
   "source": [
    "metrics.f1_score(y_pred, y_test), metrics.accuracy_score(y_pred, y_test)"
   ]
  },
  {
   "cell_type": "markdown",
   "metadata": {},
   "source": [
    "# Exercise 9.6\n",
    "\n",
    "Estimate te probability of the weighted voting\n",
    "\n",
    "Modify the probability threshold and select the one that maximizes the F1-Score"
   ]
  },
  {
   "cell_type": "code",
   "execution_count": 24,
   "metadata": {},
   "outputs": [],
   "source": [
    "samples_oob = []\n",
    "for sample in samples:\n",
    "    samples_oob.append(sorted(set(range(n_samples)) - set(sample)))"
   ]
  },
  {
   "cell_type": "code",
   "execution_count": 25,
   "metadata": {},
   "outputs": [],
   "source": [
    "errors = np.zeros(n_estimators)\n",
    "\n",
    "for i in range(n_estimators):\n",
    "    y_pred_ = trees[i].predict(X_train.iloc[samples_oob[i]])\n",
    "    errors[i] = 1 - metrics.accuracy_score(y_train.iloc[samples_oob[i]], y_pred_)"
   ]
  },
  {
   "cell_type": "code",
   "execution_count": 26,
   "metadata": {},
   "outputs": [
    {
     "data": {
      "text/plain": [
       "Text(0.5, 1.0, 'OOB error of each tree')"
      ]
     },
     "execution_count": 26,
     "metadata": {},
     "output_type": "execute_result"
    },
    {
     "data": {
      "image/png": "[encoded data removed]",
      "text/plain": [
       "<Figure size 432x288 with 1 Axes>"
      ]
     },
     "metadata": {},
     "output_type": "display_data"
    }
   ],
   "source": [
    "%matplotlib inline\n",
    "import matplotlib.pyplot as plt\n",
    "plt.style.use('fivethirtyeight')\n",
    "\n",
    "plt.scatter(range(n_estimators), errors)\n",
    "plt.xlim([0, n_estimators])\n",
    "plt.title('OOB error of each tree')"
   ]
  },
  {
   "cell_type": "code",
   "execution_count": 27,
   "metadata": {},
   "outputs": [],
   "source": [
    "alpha = (1 - errors) / (1 - errors).sum()"
   ]
  },
  {
   "cell_type": "code",
   "execution_count": 28,
   "metadata": {},
   "outputs": [],
   "source": [
    "weighted_sum_1 = ((y_pred_df) * alpha).sum(axis=1)"
   ]
  },
  {
   "cell_type": "code",
   "execution_count": 29,
   "metadata": {},
   "outputs": [
    {
     "data": {
      "text/plain": [
       "1782    0.619934\n",
       "3917    0.451088\n",
       "221     0.440955\n",
       "2135    0.218923\n",
       "5224    0.269455\n",
       "1168    0.399922\n",
       "879     0.180798\n",
       "156     0.249498\n",
       "1657    0.618445\n",
       "323     0.230200\n",
       "5302    0.549160\n",
       "2611    0.257783\n",
       "811     0.391105\n",
       "393     0.661003\n",
       "3593    0.440661\n",
       "2638    0.529319\n",
       "2187    0.610617\n",
       "5351    0.451057\n",
       "319     0.110776\n",
       "167     0.769944\n",
       "dtype: float64"
      ]
     },
     "execution_count": 29,
     "metadata": {},
     "output_type": "execute_result"
    }
   ],
   "source": [
    "weighted_sum_1.head(20)"
   ]
  },
  {
   "cell_type": "code",
   "execution_count": 30,
   "metadata": {},
   "outputs": [
    {
     "data": {
      "text/plain": [
       "(0.6378872524123921, 0.6398989898989899)"
      ]
     },
     "execution_count": 30,
     "metadata": {},
     "output_type": "execute_result"
    }
   ],
   "source": [
    "y_pred = (weighted_sum_1 >= 0.5).astype(np.int)\n",
    "\n",
    "metrics.f1_score(y_pred, y_test), metrics.accuracy_score(y_pred, y_test)"
   ]
  },
  {
   "cell_type": "markdown",
   "metadata": {},
   "source": [
    "# Exercise 9.7\n",
    "\n",
    "Estimate a logistic regression using as input the estimated classifiers\n",
    "\n",
    "Modify the probability threshold such that maximizes the F1-Score"
   ]
  },
  {
   "cell_type": "code",
   "execution_count": 31,
   "metadata": {},
   "outputs": [],
   "source": [
    "X_train_2 = pd.DataFrame(index=X_train.index, columns=list(range(n_estimators))) #cada modelo hace overfitin\n",
    "\n",
    "for i in range(n_estimators):\n",
    "    X_train_2[i] = trees[i].predict(X_train)"
   ]
  },
  {
   "cell_type": "code",
   "execution_count": 32,
   "metadata": {},
   "outputs": [
    {
     "data": {
      "text/plain": [
       "LogisticRegressionCV(Cs=10, class_weight=None, cv=5, dual=False,\n",
       "           fit_intercept=True, intercept_scaling=1.0, max_iter=100,\n",
       "           multi_class='warn', n_jobs=None, penalty='l2',\n",
       "           random_state=None, refit=True, scoring=None, solver='lbfgs',\n",
       "           tol=0.0001, verbose=0)"
      ]
     },
     "execution_count": 32,
     "metadata": {},
     "output_type": "execute_result"
    }
   ],
   "source": [
    "from sklearn.linear_model import LogisticRegressionCV\n",
    "lr = LogisticRegressionCV(cv = 5 )\n",
    "lr.fit(X_train_2, y_train)"
   ]
  },
  {
   "cell_type": "code",
   "execution_count": 33,
   "metadata": {},
   "outputs": [],
   "source": [
    "y_pred = lr.predict(y_pred_df)"
   ]
  },
  {
   "cell_type": "code",
   "execution_count": 34,
   "metadata": {},
   "outputs": [
    {
     "data": {
      "text/plain": [
       "(0.6372498717290918, 0.6429292929292929)"
      ]
     },
     "execution_count": 34,
     "metadata": {},
     "output_type": "execute_result"
    }
   ],
   "source": [
    "metrics.f1_score(y_pred, y_test), metrics.accuracy_score(y_pred, y_test)"
   ]
  },
  {
   "cell_type": "code",
   "execution_count": 35,
   "metadata": {},
   "outputs": [
    {
     "data": {
      "text/plain": [
       "(0.6325486182190379, 0.6373737373737374)"
      ]
     },
     "execution_count": 35,
     "metadata": {},
     "output_type": "execute_result"
    }
   ],
   "source": [
    "y_pred_all_ = np.zeros((X_test.shape[0], clf.n_estimators))\n",
    "X_train_3 = np.zeros((X_train.shape[0], clf.n_estimators))\n",
    "\n",
    "for i in range(clf.n_estimators):\n",
    "\n",
    "    X_train_3[:, i] = clf.estimators_[i].predict(X_train)\n",
    "    y_pred_all_[:, i] = clf.estimators_[i].predict(X_test)\n",
    "    \n",
    "lr = LogisticRegressionCV(cv=5)\n",
    "lr.fit(X_train_3, y_train)\n",
    "\n",
    "y_pred = lr.predict(y_pred_all_)\n",
    "metrics.f1_score(y_pred, y_test), metrics.accuracy_score(y_pred, y_test)"
   ]
  },
  {
   "cell_type": "code",
   "execution_count": 36,
   "metadata": {},
   "outputs": [
    {
     "data": {
      "text/plain": [
       "(0.5777554101660795, 0.5762626262626263)"
      ]
     },
     "execution_count": 36,
     "metadata": {},
     "output_type": "execute_result"
    }
   ],
   "source": [
    "dt = DecisionTreeClassifier()\n",
    "dt.fit(X_train, y_train)\n",
    "y_pred = dt.predict(X_test)\n",
    "metrics.f1_score(y_pred, y_test), metrics.accuracy_score(y_pred, y_test)"
   ]
  }
 ],
 "metadata": {
  "kernelspec": {
   "display_name": "Python 3",
   "language": "python",
   "name": "python3"
  },
  "language_info": {
   "codemirror_mode": {
    "name": "ipython",
    "version": 3
   },
   "file_extension": ".py",
   "mimetype": "text/x-python",
   "name": "python",
   "nbconvert_exporter": "python",
   "pygments_lexer": "ipython3",
   "version": "3.7.1"
  }
 },
 "nbformat": 4,
 "nbformat_minor": 1
}
