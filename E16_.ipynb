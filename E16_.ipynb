{
  "nbformat": 4,
  "nbformat_minor": 0,
  "metadata": {
    "colab": {
      "name": "Untitled2.ipynb",
      "version": "0.3.2",
      "provenance": []
    },
    "kernelspec": {
      "name": "python3",
      "display_name": "Python 3"
    }
  },
  "cells": [
    {
      "metadata": {
        "id": "hHvghsr26dq-",
        "colab_type": "text"
      },
      "cell_type": "markdown",
      "source": [
        "Así es 'M', asistente virtual de Facebook \n",
        "\n",
        "Hará sugerencias a los usuarios sobre acciones útiles. Por ahora solo está disponible en EE. UU. \n",
        "\n",
        " M funcionará en la aplicación de mensajería de Messenger y se enfocará en dar sugerencias a los usuarios de \"acciones útiles\", dijo Facebook en un blog.   \n",
        "\n",
        "“Hace un rastreo en una conversación abierta para sugerir contenidos y capacidades relevantes para enriquecer la forma en que la gente se comunica y hace las cosas”, señaló la compañía.   \n",
        "\n",
        "Entre las acciones que incluye la herramienta se encuentran sugerencias de stickers para interacciones de la vida diaria como \"Gracias\" o \"Adiós\"; la posibilidad de compartir su ubicación; ayuda para coordinar planes entre un grupo de personas; hacer una encesta en conversaciones grupales para ayudar a tomar una decisión sobre un tema y sugerencias sobre aplicaciones de transporte como Uber cuando se está hablando de ir a alguna parte.  \n",
        "\n",
        "“Para usar M, simplemente charla con un amigo o un grupo como lo harías normalmente. M puede hacer una sugerencia en una conversación relevante para una de las acciones básicas, y luego el logo M y la sugerencia aparecerán. Y M aprende: cuanto más lo usas, más te puede ayudar. Siempre tienes la opción de ignorar o rechazar una sugerencia si no es útil, y si no quieres la ayuda de M, puedes silenciarla fácilmente en la configuración de M”, afirmó la empresa.  \n",
        "\n",
        "El algolitmo NPL es redes neuronales profundas."
      ]
    }
  ]
}