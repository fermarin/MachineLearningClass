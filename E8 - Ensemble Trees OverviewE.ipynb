{
 "cells": [
  {
   "cell_type": "markdown",
   "metadata": {},
   "source": [
    "ENSEMBLE ES UNA ESTRATEGIA EXITOSA EN EL APRENDIZAJE AUTOMÁTICO\n",
    "\n",
    "La idea principal detrás de la metodología de ensemble es combinar varios clasificadores de base individuales para tener un clasificador que supere a cada uno de ellos, El principio básico en el aprendizaje conjunto es inducir perturbaciones aleatorias en el procedimiento de aprendizaje para producir varios clasificadores básicos diferentes a partir de un único conjunto de entrenamiento, luego combinar los clasificadores básicos para hacer la predicción final. Con el fin de inducir las permutaciones aleatorias y, por lo tanto, crear los diferentes clasificadores básicos, se han propuesto varios métodos, en particular.\n",
    "\n",
    "La idea es que cada uno de estos modelos básicos en conjunto ayuden a una exactitud total donde los supuestos son que un grupo desea llegar a una decisión por mayoría de votos. Uno de los dos resultados del voto es correcto, y cada modelo tiene una probabilidad independiente de votar por la decisión correcta.\n",
    "\n",
    "Algunas de sus principales ventajas son:\n",
    "\n",
    "•\tAumenta accuracy\n",
    "•\tFácil de implementar\n",
    "•\tUso de varios modelos\n",
    "•\tLos conjuntos también pueden ser paralelizados más fácilmente, lo que lleva a un rendimiento más eficiente\n",
    "•\tpermite crear un clasificador que es tremendamente preciso a partir de un conjunto de modelos que son individualmente mediocres.\n",
    "\n",
    "Si bien los métodos de conjunto pueden ayudarlo a ganar competencias de aprendizaje automático al diseñar algoritmos sofisticados y producir resultados con alta precisión, a menudo no se prefiere en las industrias donde la interpretabilidad es más importante. No obstante, la efectividad de estos métodos es innegable, y sus beneficios en aplicaciones apropiadas pueden ser tremendos. En campos como el cuidado de la salud, incluso una pequeña mejora en la precisión de los algoritmos de aprendizaje automático puede ser algo realmente valioso.\n"
   ]
  }
 ],
 "metadata": {
  "kernelspec": {
   "display_name": "Python 3",
   "language": "python",
   "name": "python3"
  },
  "language_info": {
   "codemirror_mode": {
    "name": "ipython",
    "version": 3
   },
   "file_extension": ".py",
   "mimetype": "text/x-python",
   "name": "python",
   "nbconvert_exporter": "python",
   "pygments_lexer": "ipython3",
   "version": "3.7.1"
  }
 },
 "nbformat": 4,
 "nbformat_minor": 2
}
