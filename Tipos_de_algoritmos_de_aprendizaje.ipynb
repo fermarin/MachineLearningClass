{
 "cells": [
  {
   "cell_type": "markdown",
   "metadata": {},
   "source": [
    "# Tipos de algoritmos de aprendizaje automático\n",
    "\n",
    "1.\tAprendizaje supervisado\n",
    "\n",
    "Los algoritmos de aprendizaje supervisado intentan modelar relaciones y dependencias entre la salida de predicción objetivo y las características de entrada, de manera que podamos predecir los valores de salida para los nuevos datos en función de las relaciones que aprendió de los conjuntos de datos anteriores.\n",
    "Aquí los humanos actúan como el maestro donde alimentamos a la computadora con datos de entrenamiento que contienen los datos de entrada / predictores y le mostramos las respuestas correctas (salida) y, a partir de los datos, la computadora debería poder aprender los patrones.\n",
    "\n",
    "\n",
    "2.\tAprendizaje no supervisado\n",
    "\n",
    "En este tipo de aprendizaje la información no tiene ninguna etiqueta y la computadora podría enseñarle cosas nuevas al experto después de aprender patrones de datos, estos casos son muy aplicados cuando el experto no sabe que buscar.\n",
    "Ayuda a  detectar patrones y resumir y agrupar los puntos de datos que ayudan a obtener información significativa y describir mejor los datos a los usuarios.\n",
    "\n",
    "3.\tAprendizaje semi-supervisado\n",
    "\n",
    "En los dos tipos anteriores, o no hay etiquetas para todas las observaciones en el conjunto de datos o las etiquetas están presentes para todas las observaciones. El aprendizaje semi-supervisado cae entre estos dos. En muchas situaciones prácticas, el costo de etiquetar es bastante alto, ya que requiere expertos humanos capacitados para hacerlo. Estos métodos aprovechan la idea de que, aunque se desconoce la pertenencia a grupos de los datos sin etiquetar, estos datos contienen información importante sobre los parámetros del grupo.\n",
    "\n",
    "4.\tAprendizaje reforzado\n",
    "\n",
    "El método tiene como objetivo utilizar las observaciones recopiladas de la interacción con el entorno para tomar medidas que maximicen la recompensa o minimicen el riesgo. El algoritmo de aprendizaje de refuerzo (llamado agente) aprende continuamente del entorno de manera iterativa. En el proceso, el agente aprende de sus experiencias del entorno hasta que explora toda la gama de estados posibles.\n"
   ]
  }
 ],
 "metadata": {
  "kernelspec": {
   "display_name": "Python 3",
   "language": "python",
   "name": "python3"
  },
  "language_info": {
   "codemirror_mode": {
    "name": "ipython",
    "version": 3
   },
   "file_extension": ".py",
   "mimetype": "text/x-python",
   "name": "python",
   "nbconvert_exporter": "python",
   "pygments_lexer": "ipython3",
   "version": "3.7.1"
  }
 },
 "nbformat": 4,
 "nbformat_minor": 2
}
