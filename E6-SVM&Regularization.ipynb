{
 "cells": [
  {
   "cell_type": "markdown",
   "metadata": {},
   "source": [
    "# Exercise 6\n",
    "\n",
    "## SVM & Regularization\n",
    "\n",
    "\n",
    "For this homework we consider a set of observations on a number of red and white wine varieties involving their chemical properties and ranking by tasters. Wine industry shows a recent growth spurt as social drinking is on the rise. The price of wine depends on a rather abstract concept of wine appreciation by wine tasters, opinion among whom may have a high degree of variability. Pricing of wine depends on such a volatile factor to some extent. Another key factor in wine certification and quality assessment is physicochemical tests which are laboratory-based and takes into account factors like acidity, pH level, presence of sugar and other chemical properties. For the wine market, it would be of interest if human quality of tasting can be related to the chemical properties of wine so that certification and quality assessment and assurance process is more controlled.\n",
    "\n",
    "Two datasets are available of which one dataset is on red wine and have 1599 different varieties and the other is on white wine and have 4898 varieties. All wines are produced in a particular area of Portugal. Data are collected on 12 different properties of the wines one of which is Quality, based on sensory data, and the rest are on chemical properties of the wines including density, acidity, alcohol content etc. All chemical properties of wines are continuous variables. Quality is an ordinal variable with possible ranking from 1 (worst) to 10 (best). Each variety of wine is tasted by three independent tasters and the final rank assigned is the median rank given by the tasters.\n",
    "\n",
    "A predictive model developed on this data is expected to provide guidance to vineyards regarding quality and price expected on their produce without heavy reliance on volatility of wine tasters.\n",
    "\n"
   ]
  },
  {
   "cell_type": "code",
   "execution_count": 76,
   "metadata": {},
   "outputs": [],
   "source": [
    "import pandas as pd\n",
    "import numpy as np"
   ]
  },
  {
   "cell_type": "code",
   "execution_count": 77,
   "metadata": {},
   "outputs": [],
   "source": [
    "data_rx = pd.read_csv('https://github.com/albahnsen/PracticalMachineLearningClass/raw/master/datasets/Wine_data_red.csv')\n",
    "data_wx = pd.read_csv('https://github.com/albahnsen/PracticalMachineLearningClass/raw/master/datasets/Wine_data_white.csv')\n"
   ]
  },
  {
   "cell_type": "code",
   "execution_count": 78,
   "metadata": {},
   "outputs": [
    {
     "data": {
      "text/html": [
       "<div>\n",
       "<style scoped>\n",
       "    .dataframe tbody tr th:only-of-type {\n",
       "        vertical-align: middle;\n",
       "    }\n",
       "\n",
       "    .dataframe tbody tr th {\n",
       "        vertical-align: top;\n",
       "    }\n",
       "\n",
       "    .dataframe thead th {\n",
       "        text-align: right;\n",
       "    }\n",
       "</style>\n",
       "<table border=\"1\" class=\"dataframe\">\n",
       "  <thead>\n",
       "    <tr style=\"text-align: right;\">\n",
       "      <th></th>\n",
       "      <th>fixed acidity</th>\n",
       "      <th>volatile acidity</th>\n",
       "      <th>citric acid</th>\n",
       "      <th>residual sugar</th>\n",
       "      <th>chlorides</th>\n",
       "      <th>free sulfur dioxide</th>\n",
       "      <th>total sulfur dioxide</th>\n",
       "      <th>density</th>\n",
       "      <th>pH</th>\n",
       "      <th>sulphates</th>\n",
       "      <th>alcohol</th>\n",
       "      <th>quality</th>\n",
       "      <th>type</th>\n",
       "    </tr>\n",
       "  </thead>\n",
       "  <tbody>\n",
       "    <tr>\n",
       "      <th>4760</th>\n",
       "      <td>6.6</td>\n",
       "      <td>0.17</td>\n",
       "      <td>0.26</td>\n",
       "      <td>7.4</td>\n",
       "      <td>0.052</td>\n",
       "      <td>45.0</td>\n",
       "      <td>128.0</td>\n",
       "      <td>0.99388</td>\n",
       "      <td>3.16</td>\n",
       "      <td>0.37</td>\n",
       "      <td>10.0</td>\n",
       "      <td>6</td>\n",
       "      <td>white</td>\n",
       "    </tr>\n",
       "    <tr>\n",
       "      <th>3036</th>\n",
       "      <td>6.8</td>\n",
       "      <td>0.29</td>\n",
       "      <td>0.34</td>\n",
       "      <td>3.5</td>\n",
       "      <td>0.054</td>\n",
       "      <td>26.0</td>\n",
       "      <td>189.0</td>\n",
       "      <td>0.99489</td>\n",
       "      <td>3.42</td>\n",
       "      <td>0.58</td>\n",
       "      <td>10.4</td>\n",
       "      <td>5</td>\n",
       "      <td>white</td>\n",
       "    </tr>\n",
       "    <tr>\n",
       "      <th>5625</th>\n",
       "      <td>6.4</td>\n",
       "      <td>0.57</td>\n",
       "      <td>0.02</td>\n",
       "      <td>1.8</td>\n",
       "      <td>0.067</td>\n",
       "      <td>4.0</td>\n",
       "      <td>11.0</td>\n",
       "      <td>0.99700</td>\n",
       "      <td>3.46</td>\n",
       "      <td>0.68</td>\n",
       "      <td>9.5</td>\n",
       "      <td>5</td>\n",
       "      <td>red</td>\n",
       "    </tr>\n",
       "    <tr>\n",
       "      <th>5444</th>\n",
       "      <td>7.5</td>\n",
       "      <td>0.55</td>\n",
       "      <td>0.24</td>\n",
       "      <td>2.0</td>\n",
       "      <td>0.078</td>\n",
       "      <td>10.0</td>\n",
       "      <td>28.0</td>\n",
       "      <td>0.99830</td>\n",
       "      <td>3.45</td>\n",
       "      <td>0.78</td>\n",
       "      <td>9.5</td>\n",
       "      <td>6</td>\n",
       "      <td>red</td>\n",
       "    </tr>\n",
       "    <tr>\n",
       "      <th>3909</th>\n",
       "      <td>6.2</td>\n",
       "      <td>0.39</td>\n",
       "      <td>0.24</td>\n",
       "      <td>4.8</td>\n",
       "      <td>0.037</td>\n",
       "      <td>45.0</td>\n",
       "      <td>138.0</td>\n",
       "      <td>0.99174</td>\n",
       "      <td>3.23</td>\n",
       "      <td>0.43</td>\n",
       "      <td>11.2</td>\n",
       "      <td>7</td>\n",
       "      <td>white</td>\n",
       "    </tr>\n",
       "  </tbody>\n",
       "</table>\n",
       "</div>"
      ],
      "text/plain": [
       "      fixed acidity  volatile acidity  citric acid  residual sugar  chlorides  \\\n",
       "4760            6.6              0.17         0.26             7.4      0.052   \n",
       "3036            6.8              0.29         0.34             3.5      0.054   \n",
       "5625            6.4              0.57         0.02             1.8      0.067   \n",
       "5444            7.5              0.55         0.24             2.0      0.078   \n",
       "3909            6.2              0.39         0.24             4.8      0.037   \n",
       "\n",
       "      free sulfur dioxide  total sulfur dioxide  density    pH  sulphates  \\\n",
       "4760                 45.0                 128.0  0.99388  3.16       0.37   \n",
       "3036                 26.0                 189.0  0.99489  3.42       0.58   \n",
       "5625                  4.0                  11.0  0.99700  3.46       0.68   \n",
       "5444                 10.0                  28.0  0.99830  3.45       0.78   \n",
       "3909                 45.0                 138.0  0.99174  3.23       0.43   \n",
       "\n",
       "      alcohol  quality   type  \n",
       "4760     10.0        6  white  \n",
       "3036     10.4        5  white  \n",
       "5625      9.5        5    red  \n",
       "5444      9.5        6    red  \n",
       "3909     11.2        7  white  "
      ]
     },
     "execution_count": 78,
     "metadata": {},
     "output_type": "execute_result"
    }
   ],
   "source": [
    "data = data_wx.assign(type = 'white')\n",
    "\n",
    "data = data.append(data_rx.assign(type = 'red'), ignore_index=True)\n",
    "data.sample(5)"
   ]
  },
  {
   "cell_type": "markdown",
   "metadata": {},
   "source": [
    "# Exercise 6.1\n",
    "\n",
    "Show the frecuency table of the quality by type of wine"
   ]
  },
  {
   "cell_type": "code",
   "execution_count": 79,
   "metadata": {},
   "outputs": [
    {
     "data": {
      "text/html": [
       "<div>\n",
       "<style scoped>\n",
       "    .dataframe tbody tr th:only-of-type {\n",
       "        vertical-align: middle;\n",
       "    }\n",
       "\n",
       "    .dataframe tbody tr th {\n",
       "        vertical-align: top;\n",
       "    }\n",
       "\n",
       "    .dataframe thead th {\n",
       "        text-align: right;\n",
       "    }\n",
       "</style>\n",
       "<table border=\"1\" class=\"dataframe\">\n",
       "  <thead>\n",
       "    <tr style=\"text-align: right;\">\n",
       "      <th>type</th>\n",
       "      <th>red</th>\n",
       "      <th>white</th>\n",
       "      <th>All</th>\n",
       "    </tr>\n",
       "    <tr>\n",
       "      <th>quality</th>\n",
       "      <th></th>\n",
       "      <th></th>\n",
       "      <th></th>\n",
       "    </tr>\n",
       "  </thead>\n",
       "  <tbody>\n",
       "    <tr>\n",
       "      <th>3</th>\n",
       "      <td>10</td>\n",
       "      <td>20</td>\n",
       "      <td>30</td>\n",
       "    </tr>\n",
       "    <tr>\n",
       "      <th>4</th>\n",
       "      <td>53</td>\n",
       "      <td>163</td>\n",
       "      <td>216</td>\n",
       "    </tr>\n",
       "    <tr>\n",
       "      <th>5</th>\n",
       "      <td>681</td>\n",
       "      <td>1457</td>\n",
       "      <td>2138</td>\n",
       "    </tr>\n",
       "    <tr>\n",
       "      <th>6</th>\n",
       "      <td>638</td>\n",
       "      <td>2198</td>\n",
       "      <td>2836</td>\n",
       "    </tr>\n",
       "    <tr>\n",
       "      <th>7</th>\n",
       "      <td>199</td>\n",
       "      <td>880</td>\n",
       "      <td>1079</td>\n",
       "    </tr>\n",
       "    <tr>\n",
       "      <th>8</th>\n",
       "      <td>18</td>\n",
       "      <td>175</td>\n",
       "      <td>193</td>\n",
       "    </tr>\n",
       "    <tr>\n",
       "      <th>9</th>\n",
       "      <td>0</td>\n",
       "      <td>5</td>\n",
       "      <td>5</td>\n",
       "    </tr>\n",
       "    <tr>\n",
       "      <th>All</th>\n",
       "      <td>1599</td>\n",
       "      <td>4898</td>\n",
       "      <td>6497</td>\n",
       "    </tr>\n",
       "  </tbody>\n",
       "</table>\n",
       "</div>"
      ],
      "text/plain": [
       "type      red  white   All\n",
       "quality                   \n",
       "3          10     20    30\n",
       "4          53    163   216\n",
       "5         681   1457  2138\n",
       "6         638   2198  2836\n",
       "7         199    880  1079\n",
       "8          18    175   193\n",
       "9           0      5     5\n",
       "All      1599   4898  6497"
      ]
     },
     "execution_count": 79,
     "metadata": {},
     "output_type": "execute_result"
    }
   ],
   "source": [
    "pd.crosstab(index=data['quality'],\n",
    "            columns=data['type'], margins=True)"
   ]
  },
  {
   "cell_type": "markdown",
   "metadata": {},
   "source": [
    "# SVM"
   ]
  },
  {
   "cell_type": "markdown",
   "metadata": {},
   "source": [
    "# Exercise 6.2\n",
    "\n",
    "* Standarized the features (not the quality)\n",
    "* Create a binary target for each type of wine\n",
    "* Create two Linear SVM's for the white and red wines, repectively.\n"
   ]
  },
  {
   "cell_type": "code",
   "execution_count": 80,
   "metadata": {},
   "outputs": [
    {
     "name": "stdout",
     "output_type": "stream",
     "text": [
      "kernel rbf vino white 0.38634350439565496\n",
      "kernel rbf vino white 0.4081917872032985\n"
     ]
    }
   ],
   "source": [
    "# Filtramos los datos\n",
    "data_ry = data_rx['quality']\n",
    "data_wy = data_wx['quality']\n",
    "del data_wx['quality']\n",
    "del data_rx['quality']\n",
    "\n",
    "\n",
    "# Estandarizamos los datos\n",
    "column_names = data_wx.columns.values.tolist()\n",
    "\n",
    "for col in column_names:\n",
    "    data_wx[col]=((data_wx[col] - data_wx[col].mean())/ data_wx[col].std())\n",
    "    \n",
    "for col in column_names:\n",
    "    data_rx[col]=((data_rx[col] - data_rx[col].mean())/ data_rx[col].std())  \n",
    "    \n",
    "#Create a binary target for each type of wine\n",
    "data['type_binary']=np.where(data['type']=='white',1,0)\n",
    "\n",
    "from sklearn.model_selection import train_test_split\n",
    "\n",
    "rx_train,rx_test,ry_train,ry_test, = train_test_split(data_rx, data_ry, test_size=0.3)\n",
    "wx_train,wx_test,wy_train,wy_test, = train_test_split(data_wx, data_wy, test_size=0.3)\n",
    "\n",
    "#Creamos el modelo r\n",
    "from sklearn.svm import SVR\n",
    "\n",
    "algolitmo_r = SVR(gamma='auto')\n",
    "algolitmo_r.fit(rx_train,ry_train)\n",
    "algolitmo_r.predict(rx_test)\n",
    "print('kernel rbf vino white',algolitmo_r.score(rx_test,ry_test))\n",
    "\n",
    "#Creamos el modelo w\n",
    "algolitmo_w = SVR(gamma='auto')\n",
    "algolitmo_w.fit(wx_train,wy_train)\n",
    "algolitmo_w.predict(wx_test)\n",
    "print('kernel rbf vino white',algolitmo_w.score(wx_test,wy_test))\n"
   ]
  },
  {
   "cell_type": "markdown",
   "metadata": {},
   "source": [
    "# Exercise 6.3\n",
    "\n",
    "Test the two SVM's using the different kernels (‘poly’, ‘rbf’, ‘sigmoid’)\n"
   ]
  },
  {
   "cell_type": "code",
   "execution_count": 74,
   "metadata": {},
   "outputs": [
    {
     "name": "stdout",
     "output_type": "stream",
     "text": [
      "kernel sigmoid vino red -196.271965075645\n",
      "kernel sigmoid vino white -599.3216027460525\n",
      "kernel poly vino red -0.08881111080111848\n",
      "kernel poly vino white 0.18407287247264337\n"
     ]
    }
   ],
   "source": [
    "#Kernel sigmoid\n",
    "#r\n",
    "algolitmo_r = SVR(kernel='sigmoid',gamma='auto')\n",
    "algolitmo_r.fit(rx_train,ry_train)\n",
    "algolitmo_r.predict(rx_test)\n",
    "print('kernel sigmoid vino red',algolitmo_r.score(rx_test,ry_test))\n",
    "# W\n",
    "algolitmo_w = SVR(kernel='sigmoid',gamma='auto')\n",
    "algolitmo_w.fit(wx_train,wy_train)\n",
    "algolitmo_w.predict(wx_test)\n",
    "print('kernel sigmoid vino white',algolitmo_w.score(wx_test,wy_test))\n",
    "\n",
    "#Kernel poly\n",
    "#r\n",
    "algolitmo_r = SVR(kernel='poly',gamma='auto')\n",
    "algolitmo_r.fit(rx_train,ry_train)\n",
    "algolitmo_r.predict(rx_test)\n",
    "print('kernel poly vino red',algolitmo_r.score(rx_test,ry_test))\n",
    "#w\n",
    "algolitmo_w = SVR(kernel='poly',gamma='auto')\n",
    "algolitmo_w.fit(wx_train,wy_train)\n",
    "algolitmo_w.predict(wx_test)\n",
    "print('kernel poly vino white', algolitmo_w.score(wx_test,wy_test))"
   ]
  },
  {
   "cell_type": "markdown",
   "metadata": {},
   "source": [
    "# Exercise 6.4\n",
    "Using the best SVM find the parameters that gives the best performance\n",
    "\n",
    "'C': [0.1, 1, 10, 100, 1000], 'gamma': [0.01, 0.001, 0.0001]"
   ]
  },
  {
   "cell_type": "code",
   "execution_count": 20,
   "metadata": {},
   "outputs": [],
   "source": [
    "# se eecutan las diferentes combinaciones\n",
    "algolitmo_w = SVR(C = 0.01,gamma='auto')\n",
    "algolitmo_w.fit(wx_train,wy_train)\n",
    "algolitmo_w.predict(wx_test)\n",
    "c_0_1=algolitmo_w.score(wx_test,wy_test)\n",
    "\n",
    "algolitmo_w = SVR(C = 1,gamma='auto')\n",
    "algolitmo_w.fit(wx_train,wy_train)\n",
    "algolitmo_w.predict(wx_test)\n",
    "c_1__=algolitmo_w.score(wx_test,wy_test)\n",
    "\n",
    "algolitmo_w = SVR(C = 10,gamma='auto')\n",
    "algolitmo_w.fit(wx_train,wy_train)\n",
    "algolitmo_w.predict(wx_test)\n",
    "c_10_=algolitmo_w.score(wx_test,wy_test)\n",
    "\n",
    "algolitmo_w = SVR(C = 100,gamma='auto')\n",
    "algolitmo_w.fit(wx_train,wy_train)\n",
    "algolitmo_w.predict(wx_test)\n",
    "c_100=algolitmo_w.score(wx_test,wy_test)\n",
    "\n",
    "algolitmo_w = SVR(C = 1000,gamma='auto')\n",
    "algolitmo_w.fit(wx_train,wy_train)\n",
    "algolitmo_w.predict(wx_test)\n",
    "c_1000=algolitmo_w.score(wx_test,wy_test)\n",
    "\n",
    "algolitmo_w = SVR(gamma=0.01)\n",
    "algolitmo_w.fit(wx_train,wy_train)\n",
    "algolitmo_w.predict(wx_test)\n",
    "gamma_0_01=algolitmo_w.score(wx_test,wy_test)\n",
    "\n",
    "algolitmo_w = SVR(gamma=0.001)\n",
    "algolitmo_w.fit(wx_train,wy_train)\n",
    "algolitmo_w.predict(wx_test)\n",
    "gamma_0_001=algolitmo_w.score(wx_test,wy_test)\n",
    "\n",
    "algolitmo_w = SVR(gamma=0.0001)\n",
    "algolitmo_w.fit(wx_train,wy_train)\n",
    "algolitmo_w.predict(wx_test)\n",
    "gamma_0_0001=algolitmo_w.score(wx_test,wy_test)\n",
    "\n",
    "algolitmo_w = SVR(C = 0.01,gamma=0.01)\n",
    "algolitmo_w.fit(wx_train,wy_train)\n",
    "algolitmo_w.predict(wx_test)\n",
    "c_0_01_gamma_0_01=algolitmo_w.score(wx_test,wy_test)\n",
    "\n",
    "algolitmo_w = SVR(C = 0.01,gamma=0.001)\n",
    "algolitmo_w.fit(wx_train,wy_train)\n",
    "algolitmo_w.predict(wx_test)\n",
    "c_0_01_gamma_0_001=algolitmo_w.score(wx_test,wy_test)\n",
    "\n",
    "algolitmo_w = SVR(C = 0.01,gamma=0.0001)\n",
    "algolitmo_w.fit(wx_train,wy_train)\n",
    "algolitmo_w.predict(wx_test)\n",
    "c_0_01_gamma_0_0001=algolitmo_w.score(wx_test,wy_test)\n",
    "\n",
    "algolitmo_w = SVR(C = 1,gamma=0.01)\n",
    "algolitmo_w.fit(wx_train,wy_train)\n",
    "algolitmo_w.predict(wx_test)\n",
    "c_1_gamma_0_01=algolitmo_w.score(wx_test,wy_test)\n",
    "\n",
    "algolitmo_w = SVR(C = 1,gamma=0.001)\n",
    "algolitmo_w.fit(wx_train,wy_train)\n",
    "algolitmo_w.predict(wx_test)\n",
    "c_1_gamma_0_001=algolitmo_w.score(wx_test,wy_test)\n",
    "\n",
    "algolitmo_w = SVR(C = 1,gamma=0.0001)\n",
    "algolitmo_w.fit(wx_train,wy_train)\n",
    "algolitmo_w.predict(wx_test)\n",
    "c_1_gamma_0_0001=algolitmo_w.score(wx_test,wy_test)\n",
    "\n",
    "algolitmo_w = SVR(C = 10,gamma=0.01)\n",
    "algolitmo_w.fit(wx_train,wy_train)\n",
    "algolitmo_w.predict(wx_test)\n",
    "c_10_gamma_0_01=algolitmo_w.score(wx_test,wy_test)\n",
    "\n",
    "algolitmo_w = SVR(C = 10,gamma=0.001)\n",
    "algolitmo_w.fit(wx_train,wy_train)\n",
    "algolitmo_w.predict(wx_test)\n",
    "c_10_gamma_0_001=algolitmo_w.score(wx_test,wy_test)\n",
    "\n",
    "algolitmo_w = SVR(C = 100,gamma=0.0001)\n",
    "algolitmo_w.fit(wx_train,wy_train)\n",
    "algolitmo_w.predict(wx_test)\n",
    "c_10_gamma_0_0001=algolitmo_w.score(wx_test,wy_test)\n",
    "\n",
    "algolitmo_w = SVR(C = 100,gamma=0.01)\n",
    "algolitmo_w.fit(wx_train,wy_train)\n",
    "algolitmo_w.predict(wx_test)\n",
    "c_100_gamma_0_01=algolitmo_w.score(wx_test,wy_test)\n",
    "\n",
    "algolitmo_w = SVR(C = 100,gamma=0.001)\n",
    "algolitmo_w.fit(wx_train,wy_train)\n",
    "algolitmo_w.predict(wx_test)\n",
    "c_100_gamma_0_001=algolitmo_w.score(wx_test,wy_test)\n",
    "\n",
    "algolitmo_w = SVR(C = 100,gamma=0.0001)\n",
    "algolitmo_w.fit(wx_train,wy_train)\n",
    "algolitmo_w.predict(wx_test)\n",
    "c_100_gamma_0_0001=algolitmo_w.score(wx_test,wy_test)\n",
    "\n",
    "algolitmo_w = SVR(C = 1000,gamma=0.01)\n",
    "algolitmo_w.fit(wx_train,wy_train)\n",
    "algolitmo_w.predict(wx_test)\n",
    "c_1000_gamma_0_01=algolitmo_w.score(wx_test,wy_test)\n",
    "\n",
    "algolitmo_w = SVR(C = 1000,gamma=0.001)\n",
    "algolitmo_w.fit(wx_train,wy_train)\n",
    "algolitmo_w.predict(wx_test)\n",
    "c_1000_gamma_0_001=algolitmo_w.score(wx_test,wy_test)\n",
    "\n",
    "algolitmo_w = SVR(C = 1000,gamma=0.0001)\n",
    "algolitmo_w.fit(wx_train,wy_train)\n",
    "algolitmo_w.predict(wx_test)\n",
    "c_100_gamma_0_0001=algolitmo_w.score(wx_test,wy_test)"
   ]
  },
  {
   "cell_type": "markdown",
   "metadata": {},
   "source": [
    "# Exercise 6.5\n",
    "\n",
    "Compare the results with other methods"
   ]
  },
  {
   "cell_type": "code",
   "execution_count": 48,
   "metadata": {},
   "outputs": [
    {
     "name": "stdout",
     "output_type": "stream",
     "text": [
      "0.20116787456259144\n",
      "0.38862958420797833\n",
      "el mejor modelo es C = 10 donde me esta controlando la regularidad de la funcion\n",
      "0.3981267616153078\n",
      "0.2474185031728867\n",
      "-0.36101611218088325\n",
      "0.33090564677773593\n",
      "0.2447560980070375\n",
      "0.13518665798322915\n",
      "0.1238167318558221\n",
      "0.027396996732660498\n",
      "0.00255230397238404\n",
      "0.33090564677773593\n",
      "0.2447560980070375\n",
      "0.13518665798322915\n",
      "0.3529144954715132\n",
      "0.2829028327936929\n",
      "0.257690774019919\n",
      "0.36917329201864857\n",
      "0.3124336976826093\n",
      "0.2660808232987907\n",
      "0.3645220571437491\n",
      "0.3326762938514116\n",
      "0.2660808232987907\n"
     ]
    }
   ],
   "source": [
    "print(c_0_1)\n",
    "print(c_1__)\n",
    "print('el mejor modelo es C = 10 donde me esta controlando la regularidad de la funcion')\n",
    "print(c_10_)\n",
    "print(c_100)\n",
    "print(c_1000)\n",
    "print(gamma_0_01)\n",
    "print(gamma_0_001)\n",
    "print(gamma_0_0001)\n",
    "print(c_0_01_gamma_0_01)\n",
    "print(c_0_01_gamma_0_001)\n",
    "print(c_0_01_gamma_0_0001)\n",
    "print(c_1_gamma_0_01)\n",
    "print(c_1_gamma_0_001)\n",
    "print(c_1_gamma_0_0001)\n",
    "print(c_10_gamma_0_01)\n",
    "print(c_10_gamma_0_001)\n",
    "print(c_10_gamma_0_0001)\n",
    "print(c_100_gamma_0_01)\n",
    "print(c_100_gamma_0_001)\n",
    "print(c_100_gamma_0_0001)\n",
    "print(c_1000_gamma_0_01)\n",
    "print(c_1000_gamma_0_001)\n",
    "print(c_100_gamma_0_0001)"
   ]
  },
  {
   "cell_type": "markdown",
   "metadata": {},
   "source": [
    "# Regularization"
   ]
  },
  {
   "cell_type": "markdown",
   "metadata": {},
   "source": [
    "# Exercise 6.6\n",
    "\n",
    "\n",
    "* Train a linear regression to predict wine quality (Continous)\n",
    "\n",
    "* Analyze the coefficients\n",
    "\n",
    "* Evaluate the RMSE"
   ]
  },
  {
   "cell_type": "code",
   "execution_count": 81,
   "metadata": {},
   "outputs": [
    {
     "name": "stdout",
     "output_type": "stream",
     "text": [
      "valor de llos coeficientes\n",
      "['fixed acidity', 'volatile acidity', 'citric acid', 'residual sugar', 'chlorides', 'free sulfur dioxide', 'total sulfur dioxide', 'density', 'pH', 'sulphates', 'alcohol']\n",
      "[ 0.10665084 -0.23546415  0.00502327  0.31887528 -0.03568649  0.07928867\n",
      " -0.06927384 -0.35075145  0.08169809  0.10222532  0.24526099 -0.41398983]\n",
      "\n",
      "RMSE\n"
     ]
    },
    {
     "data": {
      "text/plain": [
       "0.5257802192357292"
      ]
     },
     "execution_count": 81,
     "metadata": {},
     "output_type": "execute_result"
    }
   ],
   "source": [
    "#Train a linear regression to predict wine quality (Continous)\n",
    "data_y = data['quality']\n",
    "del data['quality']\n",
    "del data['type']\n",
    "\n",
    "for col in column_names:\n",
    "    data[col]=((data[col] - data[col].mean())/ data[col].std())\n",
    "    \n",
    "tx_train,tx_test,ty_train,ty_test, = train_test_split(data, data_y, test_size=0.3)\n",
    "\n",
    "from sklearn import datasets,linear_model\n",
    "lr_multiple = linear_model.LinearRegression()\n",
    "lr_multiple.fit(tx_train,ty_train)\n",
    "y_pred_multiple= lr_multiple.predict(tx_test)\n",
    "print('valor de llos coeficientes')\n",
    "print(column_names)\n",
    "print(lr_multiple.coef_)\n",
    "print('las variables que aportan positivamente a la prediccion de la calidad del vino son fixed acidity,citric acid, chlorides, pH')\n",
    "#print(lr_multiple.score(tx_train,ty_train))\n",
    "from sklearn.metrics import mean_squared_error\n",
    "print('RMSE')\n",
    "mean_squared_error(ty_test,y_pred_multiple)\n"
   ]
  },
  {
   "cell_type": "markdown",
   "metadata": {},
   "source": [
    "# Exercise 6.7\n",
    "\n",
    "* Estimate a ridge regression with alpha equals 0.1 and 1.\n",
    "* Compare the coefficients with the linear regression\n",
    "* Evaluate the RMSE"
   ]
  },
  {
   "cell_type": "code",
   "execution_count": 46,
   "metadata": {},
   "outputs": [
    {
     "name": "stdout",
     "output_type": "stream",
     "text": [
      "[ 0.11625809 -0.248466   -0.00980369  0.2921536  -0.02362161  0.09467536\n",
      " -0.0786319  -0.31119308  0.08727171  0.09964646  0.2599978  -0.34103644]\n",
      "0.29144015405565477\n",
      "----------------//-----------------\n",
      "[ 0.11709811 -0.24870181 -0.00979047  0.29395188 -0.02361059  0.09450858\n",
      " -0.07815295 -0.31392183  0.08773564  0.0997215   0.25899528 -0.34480123]\n",
      "0.2914409519068612\n"
     ]
    },
    {
     "data": {
      "text/plain": [
       "0.5100609746621253"
      ]
     },
     "execution_count": 46,
     "metadata": {},
     "output_type": "execute_result"
    }
   ],
   "source": [
    "from sklearn.linear_model import Ridge\n",
    "lr_ridge = linear_model.LinearRegression()\n",
    "lr_ridge = Ridge(alpha=1)\n",
    "lr_ridge.fit(tx_train,ty_train) \n",
    "print(lr_ridge.coef_)\n",
    "y_pred_ridge = lr_multiple.predict(tx_test)\n",
    "print(lr_ridge.score(tx_train,ty_train))\n",
    "mean_squared_error(ty_test,y_pred_ridge)\n",
    "print ('----------------//-----------------')\n",
    "lr_ridge = linear_model.LinearRegression()\n",
    "lr_ridge = Ridge(alpha=0.1)\n",
    "lr_ridge.fit(tx_train,ty_train) \n",
    "print(lr_ridge.coef_)\n",
    "y_pred_ridge = lr_multiple.predict(tx_test)\n",
    "print(lr_ridge.score(tx_train,ty_train))\n",
    "mean_squared_error(ty_test,y_pred_ridge)"
   ]
  },
  {
   "cell_type": "markdown",
   "metadata": {},
   "source": [
    "# Exercise 6.8\n",
    "\n",
    "* Estimate a lasso regression with alpha equals 0.01, 0.1 and 1.\n",
    "* Compare the coefficients with the linear regression\n",
    "* Evaluate the RMSE"
   ]
  },
  {
   "cell_type": "code",
   "execution_count": 50,
   "metadata": {},
   "outputs": [
    {
     "name": "stdout",
     "output_type": "stream",
     "text": [
      "[-0. -0.  0. -0. -0.  0. -0. -0.  0.  0.  0.  0.]\n",
      "0.0\n",
      "-----------//----------\n",
      "[ 0.         -0.22199049 -0.          0.07680455 -0.01461034  0.08247742\n",
      " -0.08451538 -0.          0.01883194  0.07476498  0.37779254 -0.        ]\n",
      "0.28216132875363764\n",
      "-----------//----------\n",
      "[-0.         -0.12991388  0.          0.         -0.          0.\n",
      " -0.         -0.          0.          0.          0.27753881  0.        ]\n",
      "0.23175040771437527\n"
     ]
    },
    {
     "data": {
      "text/plain": [
       "0.5585522615047995"
      ]
     },
     "execution_count": 50,
     "metadata": {},
     "output_type": "execute_result"
    }
   ],
   "source": [
    "from sklearn.metrics import mean_squared_error\n",
    "lr_lasso = linear_model.Lasso(alpha=1)\n",
    "lr_lasso.fit(tx_train,ty_train) \n",
    "print(lr_lasso.coef_)\n",
    "y_pred_lasso = lr_lasso.predict(tx_test)\n",
    "print(lr_lasso.score(tx_train,ty_train))\n",
    "mean_squared_error(ty_test,y_pred_lasso)\n",
    "print('-----------//----------')\n",
    "\n",
    "lr_lasso = linear_model.Lasso(alpha=0.01)\n",
    "lr_lasso.fit(tx_train,ty_train) \n",
    "print(lr_lasso.coef_)\n",
    "y_pred_lasso = lr_lasso.predict(tx_test)\n",
    "print(lr_lasso.score(tx_train,ty_train))\n",
    "mean_squared_error(ty_test,y_pred_lasso)\n",
    "print('-----------//----------')\n",
    "\n",
    "lr_lasso = linear_model.Lasso(alpha=0.1)\n",
    "lr_lasso.fit(tx_train,ty_train) \n",
    "print(lr_lasso.coef_)\n",
    "y_pred_lasso = lr_lasso.predict(tx_test)\n",
    "print(lr_lasso.score(tx_train,ty_train))\n",
    "mean_squared_error(ty_test,y_pred_lasso)\n"
   ]
  },
  {
   "cell_type": "markdown",
   "metadata": {},
   "source": [
    "# Exercise 6.9\n",
    "\n",
    "* Create a binary target\n",
    "\n",
    "* Train a logistic regression to predict wine quality (binary)\n",
    "\n",
    "* Analyze the coefficients\n",
    "\n",
    "* Evaluate the f1score"
   ]
  },
  {
   "cell_type": "code",
   "execution_count": 57,
   "metadata": {},
   "outputs": [
    {
     "name": "stdout",
     "output_type": "stream",
     "text": [
      "[[ 0.0522569  -0.79810979 -0.0557798   0.47246186 -0.06982154  0.29698317\n",
      "  -0.35522678 -0.30598713  0.10526114  0.30087517  0.98922642 -0.58310852]]\n"
     ]
    },
    {
     "data": {
      "text/plain": [
       "0.74180778535298"
      ]
     },
     "execution_count": 57,
     "metadata": {},
     "output_type": "execute_result"
    }
   ],
   "source": [
    "ty_test_B = np.where(pd.DataFrame(ty_test)['quality']< 6 , 0 , 1)\n",
    "ty_train_B =np.where(pd.DataFrame(ty_train)['quality']< 6 , 0 , 1)\n",
    "\n",
    "from sklearn import linear_model\n",
    "logistica = linear_model.LogisticRegression(solver='liblinear')\n",
    "logistica.fit(tx_train,ty_train_B)\n",
    "predictions = logistica.predict(tx_test)\n",
    "print(logistica.coef_)\n",
    "logistica.score(tx_train,ty_train_B)"
   ]
  },
  {
   "cell_type": "markdown",
   "metadata": {},
   "source": [
    "# Exercise 6.10\n",
    "\n",
    "* Estimate a regularized logistic regression using:\n",
    "* C = 0.01, 0.1 & 1.0\n",
    "* penalty = ['l1, 'l2']\n",
    "* Compare the coefficients and the f1score"
   ]
  },
  {
   "cell_type": "code",
   "execution_count": 60,
   "metadata": {},
   "outputs": [
    {
     "name": "stdout",
     "output_type": "stream",
     "text": [
      "[[ 0.04017209 -0.74016518 -0.05473523  0.38416673 -0.0653724   0.30191409\n",
      "  -0.39888395 -0.19351851  0.10050729  0.30499509  0.99159826 -0.2140798 ]]\n",
      "-----------//----------\n",
      "[[ 0.04017209 -0.74016518 -0.05473523  0.38416673 -0.0653724   0.30191409\n",
      "  -0.39888395 -0.19351851  0.10050729  0.30499509  0.99159826 -0.2140798 ]]\n",
      "-----------//----------\n",
      "[[ 0.0522569  -0.79810979 -0.0557798   0.47246186 -0.06982154  0.29698317\n",
      "  -0.35522678 -0.30598713  0.10526114  0.30087517  0.98922642 -0.58310852]]\n",
      "-----------//----------\n",
      "[[ 0.0522569  -0.79810979 -0.0557798   0.47246186 -0.06982154  0.29698317\n",
      "  -0.35522678 -0.30598713  0.10526114  0.30087517  0.98922642 -0.58310852]]\n",
      "-----------//----------\n",
      "[[ 0.03463674 -0.79816491 -0.05438217  0.44570048 -0.0690655   0.29540203\n",
      "  -0.35453729 -0.26487865  0.09502285  0.29684519  1.00649509 -0.55540648]]\n",
      "-----------//----------\n",
      "[[-0.00543243 -0.72697244 -0.05285229  0.25305806 -0.04764574  0.28523192\n",
      "  -0.38463345  0.          0.0632343   0.27549392  1.07273375  0.        ]]\n",
      "-----------//----------\n",
      "[[ 0.04017209 -0.74016518 -0.05473523  0.38416673 -0.0653724   0.30191409\n",
      "  -0.39888395 -0.19351851  0.10050729  0.30499509  0.99159826 -0.2140798 ]]\n",
      "-----------//----------\n",
      "[[-0.00536306 -0.72693719 -0.05286276  0.25304892 -0.04760914  0.28495886\n",
      "  -0.38428776  0.          0.06327625  0.2754825   1.0727716   0.        ]]\n",
      "-----------//----------\n",
      "[[ 0.04017209 -0.74016518 -0.05473523  0.38416673 -0.0653724   0.30191409\n",
      "  -0.39888395 -0.19351851  0.10050729  0.30499509  0.99159826 -0.2140798 ]]\n",
      "-----------//----------\n",
      "[[ 0.0522569  -0.79810979 -0.0557798   0.47246186 -0.06982154  0.29698317\n",
      "  -0.35522678 -0.30598713  0.10526114  0.30087517  0.98922642 -0.58310852]]\n",
      "-----------//----------\n",
      "[[ 0.03434015 -0.79804318 -0.05442017  0.44490194 -0.06904079  0.2955589\n",
      "  -0.35488382 -0.26366409  0.09486804  0.29685657  1.00692572 -0.5532131 ]]\n"
     ]
    },
    {
     "data": {
      "text/plain": [
       "0.7400483835495931"
      ]
     },
     "execution_count": 60,
     "metadata": {},
     "output_type": "execute_result"
    }
   ],
   "source": [
    "from sklearn import linear_model\n",
    "logistica = linear_model.LogisticRegression(C = 00.1,solver='liblinear')\n",
    "logistica.fit(tx_train,ty_train_B)\n",
    "predictions = logistica.predict(tx_test)\n",
    "print(logistica.coef_)\n",
    "logistica.score(tx_train,ty_train_B)\n",
    "\n",
    "print('-----------//----------')\n",
    "from sklearn import linear_model\n",
    "logistica = linear_model.LogisticRegression(C = 0.1,solver='liblinear')\n",
    "logistica.fit(tx_train,ty_train_B)\n",
    "predictions = logistica.predict(tx_test)\n",
    "print(logistica.coef_)\n",
    "logistica.score(tx_train,ty_train_B)\n",
    "\n",
    "print('-----------//----------')\n",
    "from sklearn import linear_model\n",
    "logistica = linear_model.LogisticRegression(C = 1,solver='liblinear')\n",
    "logistica.fit(tx_train,ty_train_B)\n",
    "predictions = logistica.predict(tx_test)\n",
    "print(logistica.coef_)\n",
    "logistica.score(tx_train,ty_train_B)\n",
    "\n",
    "print('-----------//----------')\n",
    "\n",
    "from sklearn import linear_model\n",
    "logistica = linear_model.LogisticRegression(penalty='l2',solver='liblinear')\n",
    "logistica.fit(tx_train,ty_train_B)\n",
    "predictions = logistica.predict(tx_test)\n",
    "print(logistica.coef_)\n",
    "logistica.score(tx_train,ty_train_B)\n",
    "\n",
    "print('-----------//----------')\n",
    "from sklearn import linear_model\n",
    "logistica = linear_model.LogisticRegression( penalty='l1',solver='liblinear')\n",
    "logistica.fit(tx_train,ty_train_B)\n",
    "predictions = logistica.predict(tx_test)\n",
    "print(logistica.coef_)\n",
    "logistica.score(tx_train,ty_train_B)\n",
    "\n",
    "print('-----------//----------')\n",
    "from sklearn import linear_model\n",
    "logistica = linear_model.LogisticRegression(C = 00.1, penalty='l1',solver='liblinear')\n",
    "logistica.fit(tx_train,ty_train_B)\n",
    "predictions = logistica.predict(tx_test)\n",
    "print(logistica.coef_)\n",
    "logistica.score(tx_train,ty_train_B)\n",
    "\n",
    "print('-----------//----------')\n",
    "from sklearn import linear_model\n",
    "logistica = linear_model.LogisticRegression(C = 00.1, penalty='l2',solver='liblinear')\n",
    "logistica.fit(tx_train,ty_train_B)\n",
    "predictions = logistica.predict(tx_test)\n",
    "print(logistica.coef_)\n",
    "logistica.score(tx_train,ty_train_B)\n",
    "\n",
    "print('-----------//----------')\n",
    "from sklearn import linear_model\n",
    "logistica = linear_model.LogisticRegression(C = 0.1, penalty='l1',solver='liblinear')\n",
    "logistica.fit(tx_train,ty_train_B)\n",
    "predictions = logistica.predict(tx_test)\n",
    "print(logistica.coef_)\n",
    "logistica.score(tx_train,ty_train_B)\n",
    "\n",
    "print('-----------//----------')\n",
    "from sklearn import linear_model\n",
    "logistica = linear_model.LogisticRegression(C = 0.1, penalty='l2',solver='liblinear')\n",
    "logistica.fit(tx_train,ty_train_B)\n",
    "predictions = logistica.predict(tx_test)\n",
    "print(logistica.coef_)\n",
    "logistica.score(tx_train,ty_train_B)\n",
    "\n",
    "print('-----------//----------')\n",
    "from sklearn import linear_model\n",
    "logistica = linear_model.LogisticRegression(C = 1, penalty='l2',solver='liblinear')\n",
    "logistica.fit(tx_train,ty_train_B)\n",
    "predictions = logistica.predict(tx_test)\n",
    "print(logistica.coef_)\n",
    "logistica.score(tx_train,ty_train_B)\n",
    "\n",
    "print('-----------//----------')\n",
    "from sklearn import linear_model\n",
    "logistica = linear_model.LogisticRegression(C = 1, penalty='l1',solver='liblinear')\n",
    "logistica.fit(tx_train,ty_train_B)\n",
    "predictions = logistica.predict(tx_test)\n",
    "print(logistica.coef_)\n",
    "logistica.score(tx_train,ty_train_B)"
   ]
  },
  {
   "cell_type": "code",
   "execution_count": null,
   "metadata": {},
   "outputs": [],
   "source": []
  }
 ],
 "metadata": {
  "kernelspec": {
   "display_name": "Python 3",
   "language": "python",
   "name": "python3"
  },
  "language_info": {
   "codemirror_mode": {
    "name": "ipython",
    "version": 3
   },
   "file_extension": ".py",
   "mimetype": "text/x-python",
   "name": "python",
   "nbconvert_exporter": "python",
   "pygments_lexer": "ipython3",
   "version": "3.7.1"
  }
 },
 "nbformat": 4,
 "nbformat_minor": 1
}
